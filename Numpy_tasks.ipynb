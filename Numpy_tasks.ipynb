{
  "cells": [
    {
      "cell_type": "markdown",
      "metadata": {
        "id": "EBUI8bWsuEmg"
      },
      "source": [
        "# Numpy\n",
        "\n"
      ]
    },
    {
      "cell_type": "markdown",
      "metadata": {
        "id": "gNV9N2o7uEmk"
      },
      "source": [
        "#### 1. Import the numpy package under the name `np` (★☆☆) \n",
        "(**hint**: import … as …)"
      ]
    },
    {
      "cell_type": "code",
      "execution_count": 1,
      "metadata": {
        "collapsed": true,
        "id": "W6qzw_IeuEmm"
      },
      "outputs": [],
      "source": [
        "import numpy as np"
      ]
    },
    {
      "cell_type": "markdown",
      "metadata": {
        "id": "sDxRjhwZuEmm"
      },
      "source": [
        "#### 2. Print the numpy version and the configuration (★☆☆) \n",
        "(**hint**: np.\\_\\_version\\_\\_, np.show\\_config)"
      ]
    },
    {
      "cell_type": "code",
      "execution_count": 2,
      "metadata": {
        "id": "BoEMCgC1uEmn",
        "outputId": "8ba41c45-0082-4713-85f7-40c3f69adf71",
        "colab": {
          "base_uri": "https://localhost:8080/"
        }
      },
      "outputs": [
        {
          "output_type": "stream",
          "name": "stdout",
          "text": [
            "1.21.6\n",
            "blas_mkl_info:\n",
            "  NOT AVAILABLE\n",
            "blis_info:\n",
            "  NOT AVAILABLE\n",
            "openblas_info:\n",
            "    libraries = ['openblas', 'openblas']\n",
            "    library_dirs = ['/usr/local/lib']\n",
            "    language = c\n",
            "    define_macros = [('HAVE_CBLAS', None)]\n",
            "    runtime_library_dirs = ['/usr/local/lib']\n",
            "blas_opt_info:\n",
            "    libraries = ['openblas', 'openblas']\n",
            "    library_dirs = ['/usr/local/lib']\n",
            "    language = c\n",
            "    define_macros = [('HAVE_CBLAS', None)]\n",
            "    runtime_library_dirs = ['/usr/local/lib']\n",
            "lapack_mkl_info:\n",
            "  NOT AVAILABLE\n",
            "openblas_lapack_info:\n",
            "    libraries = ['openblas', 'openblas']\n",
            "    library_dirs = ['/usr/local/lib']\n",
            "    language = c\n",
            "    define_macros = [('HAVE_CBLAS', None)]\n",
            "    runtime_library_dirs = ['/usr/local/lib']\n",
            "lapack_opt_info:\n",
            "    libraries = ['openblas', 'openblas']\n",
            "    library_dirs = ['/usr/local/lib']\n",
            "    language = c\n",
            "    define_macros = [('HAVE_CBLAS', None)]\n",
            "    runtime_library_dirs = ['/usr/local/lib']\n",
            "Supported SIMD extensions in this NumPy install:\n",
            "    baseline = SSE,SSE2,SSE3\n",
            "    found = SSSE3,SSE41,POPCNT,SSE42,AVX,F16C,FMA3,AVX2\n",
            "    not found = AVX512F,AVX512CD,AVX512_KNL,AVX512_KNM,AVX512_SKX,AVX512_CLX,AVX512_CNL,AVX512_ICL\n",
            "None\n"
          ]
        }
      ],
      "source": [
        "print(np.__version__)\n",
        "print(np.show_config())"
      ]
    },
    {
      "cell_type": "markdown",
      "metadata": {
        "id": "OvsCzOmquEmo"
      },
      "source": [
        "#### 3. Create a null vector of size 10 (★☆☆) \n",
        "(**hint**: np.zeros)"
      ]
    },
    {
      "cell_type": "code",
      "execution_count": 3,
      "metadata": {
        "id": "UBa_kBN3uEmp"
      },
      "outputs": [],
      "source": [
        "x = np.zeros(10)"
      ]
    },
    {
      "cell_type": "markdown",
      "metadata": {
        "id": "Wb-iXu_vuEmq"
      },
      "source": [
        "#### 4.  How to find the memory size of any array (★☆☆) \n",
        "(**hint**: size, itemsize)"
      ]
    },
    {
      "cell_type": "code",
      "execution_count": 4,
      "metadata": {
        "id": "_5aJJFRfuEmq",
        "outputId": "86d0c362-f2b3-4ee0-a17b-bca1529173b7",
        "colab": {
          "base_uri": "https://localhost:8080/"
        }
      },
      "outputs": [
        {
          "output_type": "stream",
          "name": "stdout",
          "text": [
            "10\n"
          ]
        }
      ],
      "source": [
        "print(x.size)"
      ]
    },
    {
      "cell_type": "markdown",
      "metadata": {
        "id": "0h2ZKQsVuEmr"
      },
      "source": [
        "#### 5.  How to get the documentation of the numpy add function from the command line? (★☆☆) \n",
        "(**hint**: np.info)"
      ]
    },
    {
      "cell_type": "code",
      "execution_count": 5,
      "metadata": {
        "collapsed": true,
        "id": "eQxYRbDxuEmr",
        "outputId": "b46bdd19-73a9-433b-b460-af3958466ff0",
        "colab": {
          "base_uri": "https://localhost:8080/"
        }
      },
      "outputs": [
        {
          "output_type": "stream",
          "name": "stdout",
          "text": [
            "add(x1, x2, /, out=None, *, where=True, casting='same_kind', order='K', dtype=None, subok=True[, signature, extobj])\n",
            "\n",
            "Add arguments element-wise.\n",
            "\n",
            "Parameters\n",
            "----------\n",
            "x1, x2 : array_like\n",
            "    The arrays to be added.\n",
            "    If ``x1.shape != x2.shape``, they must be broadcastable to a common\n",
            "    shape (which becomes the shape of the output).\n",
            "out : ndarray, None, or tuple of ndarray and None, optional\n",
            "    A location into which the result is stored. If provided, it must have\n",
            "    a shape that the inputs broadcast to. If not provided or None,\n",
            "    a freshly-allocated array is returned. A tuple (possible only as a\n",
            "    keyword argument) must have length equal to the number of outputs.\n",
            "where : array_like, optional\n",
            "    This condition is broadcast over the input. At locations where the\n",
            "    condition is True, the `out` array will be set to the ufunc result.\n",
            "    Elsewhere, the `out` array will retain its original value.\n",
            "    Note that if an uninitialized `out` array is created via the default\n",
            "    ``out=None``, locations within it where the condition is False will\n",
            "    remain uninitialized.\n",
            "**kwargs\n",
            "    For other keyword-only arguments, see the\n",
            "    :ref:`ufunc docs <ufuncs.kwargs>`.\n",
            "\n",
            "Returns\n",
            "-------\n",
            "add : ndarray or scalar\n",
            "    The sum of `x1` and `x2`, element-wise.\n",
            "    This is a scalar if both `x1` and `x2` are scalars.\n",
            "\n",
            "Notes\n",
            "-----\n",
            "Equivalent to `x1` + `x2` in terms of array broadcasting.\n",
            "\n",
            "Examples\n",
            "--------\n",
            ">>> np.add(1.0, 4.0)\n",
            "5.0\n",
            ">>> x1 = np.arange(9.0).reshape((3, 3))\n",
            ">>> x2 = np.arange(3.0)\n",
            ">>> np.add(x1, x2)\n",
            "array([[  0.,   2.,   4.],\n",
            "       [  3.,   5.,   7.],\n",
            "       [  6.,   8.,  10.]])\n",
            "\n",
            "The ``+`` operator can be used as a shorthand for ``np.add`` on ndarrays.\n",
            "\n",
            ">>> x1 = np.arange(9.0).reshape((3, 3))\n",
            ">>> x2 = np.arange(3.0)\n",
            ">>> x1 + x2\n",
            "array([[ 0.,  2.,  4.],\n",
            "       [ 3.,  5.,  7.],\n",
            "       [ 6.,  8., 10.]])\n"
          ]
        }
      ],
      "source": [
        "np.info(np.add)"
      ]
    },
    {
      "cell_type": "markdown",
      "metadata": {
        "id": "qseDMpPouEms"
      },
      "source": [
        "#### 6.  Create a null vector of size 10 but the fifth value which is 1 (★☆☆) \n",
        "(**hint**: array\\[4\\])"
      ]
    },
    {
      "cell_type": "code",
      "execution_count": 6,
      "metadata": {
        "id": "Qbu0UhHKuEms",
        "outputId": "2f996766-e9a5-4ed1-84a4-8383454448bc",
        "colab": {
          "base_uri": "https://localhost:8080/"
        }
      },
      "outputs": [
        {
          "output_type": "stream",
          "name": "stdout",
          "text": [
            "[0. 0. 0. 0. 1. 0. 0. 0. 0. 0.]\n"
          ]
        }
      ],
      "source": [
        "x[4]=1\n",
        "print(x)"
      ]
    },
    {
      "cell_type": "markdown",
      "metadata": {
        "id": "KNBzUXNBuEmt"
      },
      "source": [
        "#### 7.  Create a vector with values ranging from 10 to 49 (★☆☆) \n",
        "(**hint**: np.arange)"
      ]
    },
    {
      "cell_type": "code",
      "execution_count": 7,
      "metadata": {
        "id": "mCW5oV1yuEmt",
        "outputId": "4f79d76f-498e-48b7-a7bd-5821d71cb21b",
        "colab": {
          "base_uri": "https://localhost:8080/"
        }
      },
      "outputs": [
        {
          "output_type": "stream",
          "name": "stdout",
          "text": [
            "[10 11 12 13 14 15 16 17 18 19 20 21 22 23 24 25 26 27 28 29 30 31 32 33\n",
            " 34 35 36 37 38 39 40 41 42 43 44 45 46 47 48 49]\n"
          ]
        }
      ],
      "source": [
        "y=np.arange(10,50)\n",
        "print(y)"
      ]
    },
    {
      "cell_type": "markdown",
      "metadata": {
        "id": "xEwttoEXuEmu"
      },
      "source": [
        "#### 8.  Reverse a vector (first element becomes last) (★☆☆) \n",
        "(**hint**: array\\[::-1\\])"
      ]
    },
    {
      "cell_type": "code",
      "execution_count": 8,
      "metadata": {
        "id": "d_e99iZiuEmu",
        "outputId": "962dd827-dc24-4712-fb88-758185f069bd",
        "colab": {
          "base_uri": "https://localhost:8080/"
        }
      },
      "outputs": [
        {
          "output_type": "stream",
          "name": "stdout",
          "text": [
            "[49 48 47 46 45 44 43 42 41 40 39 38 37 36 35 34 33 32 31 30 29 28 27 26\n",
            " 25 24 23 22 21 20 19 18 17 16 15 14 13 12 11 10]\n"
          ]
        }
      ],
      "source": [
        "y=y[::-1]\n",
        "print(y)"
      ]
    },
    {
      "cell_type": "markdown",
      "metadata": {
        "id": "LhxXfhimuEmu"
      },
      "source": [
        "#### 9.  Create a 3x3 matrix with values ranging from 0 to 8 (★☆☆) \n",
        "(**hint**: reshape)"
      ]
    },
    {
      "cell_type": "code",
      "execution_count": 9,
      "metadata": {
        "id": "JRaEHZPHuEmu",
        "outputId": "de7408ce-faab-4c76-cad2-223dc1546565",
        "colab": {
          "base_uri": "https://localhost:8080/"
        }
      },
      "outputs": [
        {
          "output_type": "stream",
          "name": "stdout",
          "text": [
            "[[0 1 2]\n",
            " [3 4 5]\n",
            " [6 7 8]]\n"
          ]
        }
      ],
      "source": [
        "y=np.arange(9).reshape(3,3)\n",
        "print(y)"
      ]
    },
    {
      "cell_type": "markdown",
      "metadata": {
        "id": "jBMadbFEuEmv"
      },
      "source": [
        "#### 10. Find indices of non-zero elements from \\[1,2,0,0,4,0\\] (★☆☆) \n",
        "(**hint**: np.nonzero)"
      ]
    },
    {
      "cell_type": "code",
      "execution_count": 10,
      "metadata": {
        "id": "LPnVhpT2uEmv",
        "colab": {
          "base_uri": "https://localhost:8080/"
        },
        "outputId": "56b7f7f1-2287-45e5-a4a5-11b56681b02b"
      },
      "outputs": [
        {
          "output_type": "stream",
          "name": "stdout",
          "text": [
            "(array([0, 1, 4]),)\n"
          ]
        }
      ],
      "source": [
        "a=[1,2,0,0,4,0]\n",
        "nz=np.nonzero(a)\n",
        "print(nz)"
      ]
    },
    {
      "cell_type": "markdown",
      "metadata": {
        "id": "zfu7UMUGuEmv"
      },
      "source": [
        "#### 11. Create a 3x3 identity matrix (★☆☆) \n",
        "(**hint**: np.eye)"
      ]
    },
    {
      "cell_type": "code",
      "execution_count": 11,
      "metadata": {
        "id": "jBdNCG3WuEmw",
        "colab": {
          "base_uri": "https://localhost:8080/"
        },
        "outputId": "5f7992e4-b244-4780-ff90-fee4cf377b43"
      },
      "outputs": [
        {
          "output_type": "stream",
          "name": "stdout",
          "text": [
            "[[1. 0. 0.]\n",
            " [0. 1. 0.]\n",
            " [0. 0. 1.]]\n"
          ]
        }
      ],
      "source": [
        "b=np.eye(3)\n",
        "print(b)"
      ]
    },
    {
      "cell_type": "markdown",
      "metadata": {
        "id": "awNyewq4uEmw"
      },
      "source": [
        "#### 12. Create a 3x3x3 array with random values (★☆☆) \n",
        "(**hint**: np.random.random)"
      ]
    },
    {
      "cell_type": "code",
      "execution_count": 12,
      "metadata": {
        "collapsed": true,
        "id": "Y98L48uQuEmw",
        "colab": {
          "base_uri": "https://localhost:8080/"
        },
        "outputId": "65ed3f02-8563-46de-c45d-35f4a7bdfc83"
      },
      "outputs": [
        {
          "output_type": "stream",
          "name": "stdout",
          "text": [
            "[1.54065483 1.53159496 1.92214701]\n"
          ]
        }
      ],
      "source": [
        "c=np.random.uniform((3,3,3))\n",
        "print(c)"
      ]
    },
    {
      "cell_type": "markdown",
      "metadata": {
        "id": "mUlALxUFuEmw"
      },
      "source": [
        "#### 13. Create a 10x10 array with random values and find the minimum and maximum values (★☆☆) \n",
        "(**hint**: min, max)"
      ]
    },
    {
      "cell_type": "code",
      "execution_count": 13,
      "metadata": {
        "id": "7wd3u0dVuEmw",
        "colab": {
          "base_uri": "https://localhost:8080/"
        },
        "outputId": "8981e360-735a-4190-eddd-ec340f25b364"
      },
      "outputs": [
        {
          "output_type": "stream",
          "name": "stdout",
          "text": [
            "0.004678951854030444\n",
            "0.9926506024840684\n"
          ]
        }
      ],
      "source": [
        "d=np.random.random((10,10))\n",
        "print(d.min())\n",
        "print(d.max())"
      ]
    },
    {
      "cell_type": "markdown",
      "metadata": {
        "id": "fiqvFWcouEmw"
      },
      "source": [
        "#### 14. Create a random vector of size 30 and find the mean value (★☆☆) \n",
        "(**hint**: mean)"
      ]
    },
    {
      "cell_type": "code",
      "execution_count": 14,
      "metadata": {
        "id": "qMBq8FOLuEmx",
        "colab": {
          "base_uri": "https://localhost:8080/"
        },
        "outputId": "1c94028b-1109-45e1-88dc-73654b2b9bf1"
      },
      "outputs": [
        {
          "output_type": "stream",
          "name": "stdout",
          "text": [
            "0.4830763783207093\n"
          ]
        }
      ],
      "source": [
        "y=np.random.random(30)\n",
        "print(y.mean())\n"
      ]
    },
    {
      "cell_type": "markdown",
      "metadata": {
        "id": "eaVeTN-HuEmx"
      },
      "source": [
        "#### 15. Create a 2d array with 1 on the border and 0 inside (★☆☆) \n",
        "(**hint**: array\\[1:-1, 1:-1\\])"
      ]
    },
    {
      "cell_type": "code",
      "execution_count": 15,
      "metadata": {
        "id": "gobJ1huruEmx",
        "colab": {
          "base_uri": "https://localhost:8080/"
        },
        "outputId": "9370721e-55c6-468b-84eb-a0cf0b327026"
      },
      "outputs": [
        {
          "output_type": "stream",
          "name": "stdout",
          "text": [
            "[[1. 1. 1. 1. 1.]\n",
            " [1. 0. 0. 0. 1.]\n",
            " [1. 0. 0. 0. 1.]\n",
            " [1. 0. 0. 0. 1.]\n",
            " [1. 1. 1. 1. 1.]]\n"
          ]
        }
      ],
      "source": [
        "z=np.ones((5,5))\n",
        "z[1:-1,1:-1]=0\n",
        "print(z)"
      ]
    },
    {
      "cell_type": "markdown",
      "metadata": {
        "id": "qqoqWTqSuEmx"
      },
      "source": [
        "#### 16. How to add a border (filled with 0's) around an existing array? (★☆☆) \n",
        "(**hint**: np.pad)"
      ]
    },
    {
      "cell_type": "code",
      "execution_count": 16,
      "metadata": {
        "id": "Zi3uGj-HuEmx",
        "colab": {
          "base_uri": "https://localhost:8080/"
        },
        "outputId": "37ea8f1c-d74a-48ca-b51d-27d5dd3c65c0"
      },
      "outputs": [
        {
          "output_type": "execute_result",
          "data": {
            "text/plain": [
              "array([[0., 0., 0., 0., 0., 0., 0.],\n",
              "       [0., 1., 1., 1., 1., 1., 0.],\n",
              "       [0., 1., 0., 0., 0., 1., 0.],\n",
              "       [0., 1., 0., 0., 0., 1., 0.],\n",
              "       [0., 1., 0., 0., 0., 1., 0.],\n",
              "       [0., 1., 1., 1., 1., 1., 0.],\n",
              "       [0., 0., 0., 0., 0., 0., 0.]])"
            ]
          },
          "metadata": {},
          "execution_count": 16
        }
      ],
      "source": [
        "z=np.pad(z,1,mode=\"constant\")\n",
        "z"
      ]
    },
    {
      "cell_type": "markdown",
      "metadata": {
        "id": "p1lXjASGuEmx"
      },
      "source": [
        "#### 17. What is the result of the following expression? (★☆☆) \n",
        "(**hint**: NaN = not a number, inf = infinity)"
      ]
    },
    {
      "cell_type": "markdown",
      "metadata": {
        "id": "_YqDBVgauEmy"
      },
      "source": [
        "```python\n",
        "0 * np.nan\n",
        "np.nan == np.nan\n",
        "np.inf > np.nan\n",
        "np.nan - np.nan\n",
        "0.3 == 3 * 0.1\n",
        "```"
      ]
    },
    {
      "cell_type": "code",
      "execution_count": 17,
      "metadata": {
        "id": "9FA12UgGuEmy",
        "colab": {
          "base_uri": "https://localhost:8080/"
        },
        "outputId": "5c2094df-0ad7-4733-8a95-ffd59f1aa9ce"
      },
      "outputs": [
        {
          "output_type": "stream",
          "name": "stdout",
          "text": [
            "nan\n",
            "False\n",
            "False\n",
            "nan\n",
            "False\n"
          ]
        }
      ],
      "source": [
        "print(0 * np.nan)         #nan\n",
        "print(np.nan == np.nan)   #False\n",
        "print(np.inf > np.nan)    #False\n",
        "print(np.nan - np.nan)    #nan\n",
        "print(0.3 == 3 * 0.1)     #False"
      ]
    },
    {
      "cell_type": "markdown",
      "metadata": {
        "id": "Z1iUAr-QuEmy"
      },
      "source": [
        "#### 18. Create a 5x5 matrix with values 1,2,3,4 just below the diagonal (★☆☆) \n",
        "(**hint**: np.diag)"
      ]
    },
    {
      "cell_type": "code",
      "execution_count": 18,
      "metadata": {
        "id": "C_wIPUMZuEmy",
        "colab": {
          "base_uri": "https://localhost:8080/"
        },
        "outputId": "870d8173-b488-4109-aea7-035b5b93bed3"
      },
      "outputs": [
        {
          "output_type": "execute_result",
          "data": {
            "text/plain": [
              "array([[0, 0, 0, 0, 0],\n",
              "       [1, 0, 0, 0, 0],\n",
              "       [0, 2, 0, 0, 0],\n",
              "       [0, 0, 3, 0, 0],\n",
              "       [0, 0, 0, 4, 0]])"
            ]
          },
          "metadata": {},
          "execution_count": 18
        }
      ],
      "source": [
        "y=np.diag(1+np.arange(4),k=-1)\n",
        "y"
      ]
    },
    {
      "cell_type": "markdown",
      "metadata": {
        "id": "fRpMqYW6uEmz"
      },
      "source": [
        "#### 19. Create a 8x8 matrix and fill it with a checkerboard pattern (★☆☆) \n",
        "(**hint**: array\\[::2\\])"
      ]
    },
    {
      "cell_type": "code",
      "execution_count": 19,
      "metadata": {
        "id": "OmbKF_SluEmz",
        "colab": {
          "base_uri": "https://localhost:8080/"
        },
        "outputId": "b07c6c8d-4a76-494a-9d95-594ea1eb3588"
      },
      "outputs": [
        {
          "output_type": "stream",
          "name": "stdout",
          "text": [
            "[[0 1 0 1 0 1 0 1]\n",
            " [1 0 1 0 1 0 1 0]\n",
            " [0 1 0 1 0 1 0 1]\n",
            " [1 0 1 0 1 0 1 0]\n",
            " [0 1 0 1 0 1 0 1]\n",
            " [1 0 1 0 1 0 1 0]\n",
            " [0 1 0 1 0 1 0 1]\n",
            " [1 0 1 0 1 0 1 0]]\n"
          ]
        }
      ],
      "source": [
        "Z = np.zeros ((8,8), dtype=int)\n",
        "Z[1::2, ::2]= 1\n",
        "Z[::2, 1::2] = 1\n",
        "print (Z)"
      ]
    },
    {
      "cell_type": "markdown",
      "metadata": {
        "id": "7_Hew9bYuEmz"
      },
      "source": [
        "#### 20. Consider a (6,7,8) shape array, what is the index (x,y,z) of the 100th element? \n",
        "(**hint**: np.unravel_index)"
      ]
    },
    {
      "cell_type": "code",
      "execution_count": 20,
      "metadata": {
        "id": "wpT98PRGuEmz",
        "colab": {
          "base_uri": "https://localhost:8080/"
        },
        "outputId": "d1670ef6-427f-4d38-ffcc-d23ee18219ab"
      },
      "outputs": [
        {
          "output_type": "stream",
          "name": "stdout",
          "text": [
            "(1, 5, 4)\n"
          ]
        }
      ],
      "source": [
        "print(np.unravel_index(100,(6,7,8)))"
      ]
    },
    {
      "cell_type": "markdown",
      "metadata": {
        "id": "m-NF4IjyuEmz"
      },
      "source": [
        "#### 21. Create a checkerboard 8x8 matrix using the tile function (★☆☆) \n",
        "(**hint**: np.tile)"
      ]
    },
    {
      "cell_type": "code",
      "execution_count": 21,
      "metadata": {
        "id": "Ma3xJBV4uEm0",
        "colab": {
          "base_uri": "https://localhost:8080/"
        },
        "outputId": "46545315-d420-4c70-cade-37e6678b3aeb"
      },
      "outputs": [
        {
          "output_type": "stream",
          "name": "stdout",
          "text": [
            "[[1 0 1 0 1 0 1 0]\n",
            " [0 1 0 1 0 1 0 1]\n",
            " [1 0 1 0 1 0 1 0]\n",
            " [0 1 0 1 0 1 0 1]\n",
            " [1 0 1 0 1 0 1 0]\n",
            " [0 1 0 1 0 1 0 1]\n",
            " [1 0 1 0 1 0 1 0]\n",
            " [0 1 0 1 0 1 0 1]]\n"
          ]
        }
      ],
      "source": [
        "array=np.array([[1,0],[0,1]])\n",
        "z=np.tile(array,(4,4))\n",
        "print(z)"
      ]
    },
    {
      "cell_type": "markdown",
      "metadata": {
        "id": "Uh0JPJpwuEm0"
      },
      "source": [
        "#### 22. Normalize a 5x5 random matrix (★☆☆) \n",
        "(**hint**: (x - min) / (max - min))"
      ]
    },
    {
      "cell_type": "code",
      "execution_count": 22,
      "metadata": {
        "id": "Rpd1VnwsuEm0",
        "colab": {
          "base_uri": "https://localhost:8080/"
        },
        "outputId": "acd55d13-8a10-4333-c824-a2a301533b12"
      },
      "outputs": [
        {
          "output_type": "stream",
          "name": "stdout",
          "text": [
            "[[0.00405514 0.67038613 0.18932078 0.74112058 0.0316517 ]\n",
            " [0.72815937 0.50369808 0.76000834 0.85188625 0.37640644]\n",
            " [0.37020632 0.63610601 0.39078105 0.95366937 0.70769579]\n",
            " [0.07413635 0.9200634  0.63771827 0.12590251 0.52199246]\n",
            " [0.         0.65316265 1.         0.27626321 0.23003109]]\n"
          ]
        }
      ],
      "source": [
        "n=np.random.random((5,5))\n",
        "nmin,nmax=n.min(),n.max()\n",
        "n=(n-nmin)/(nmax-nmin)\n",
        "print(n)"
      ]
    },
    {
      "cell_type": "markdown",
      "metadata": {
        "id": "Eh6MzKh8uEm0"
      },
      "source": [
        "#### 23. Create a custom dtype that describes a color as four unsigned bytes (RGBA) (★☆☆) \n",
        "(**hint**: np.dtype)"
      ]
    },
    {
      "cell_type": "code",
      "execution_count": 23,
      "metadata": {
        "collapsed": true,
        "id": "15WnjNIuuEm0",
        "colab": {
          "base_uri": "https://localhost:8080/"
        },
        "outputId": "90f4584b-096c-429e-e881-2eb1f9f5bcd5"
      },
      "outputs": [
        {
          "output_type": "stream",
          "name": "stderr",
          "text": [
            "/usr/local/lib/python3.7/dist-packages/ipykernel_launcher.py:1: FutureWarning: Passing (type, 1) or '1type' as a synonym of type is deprecated; in a future version of numpy, it will be understood as (type, (1,)) / '(1,)type'.\n",
            "  \"\"\"Entry point for launching an IPython kernel.\n"
          ]
        }
      ],
      "source": [
        "colour=np.dtype([(\"r\",np.ubyte,1),(\"g\",np.ubyte,1),(\"b\",np.ubyte,1),(\"a\",np.ubyte,1)])"
      ]
    },
    {
      "cell_type": "markdown",
      "metadata": {
        "id": "hWq0t_sWuEm0"
      },
      "source": [
        "#### 24. Multiply a 5x3 matrix by a 3x2 matrix (real matrix product) (★☆☆) \n",
        "(**hint**: np.dot | @)"
      ]
    },
    {
      "cell_type": "code",
      "execution_count": 24,
      "metadata": {
        "id": "9Yg8_IcQuEm1",
        "colab": {
          "base_uri": "https://localhost:8080/"
        },
        "outputId": "6daf67f4-eac1-4b1d-9b6b-e2f5818a2421"
      },
      "outputs": [
        {
          "output_type": "stream",
          "name": "stdout",
          "text": [
            "[[3. 3.]\n",
            " [3. 3.]\n",
            " [3. 3.]\n",
            " [3. 3.]\n",
            " [3. 3.]]\n"
          ]
        }
      ],
      "source": [
        "x=np.ones((5,3))@np.ones((3,2))\n",
        "print(x)"
      ]
    },
    {
      "cell_type": "markdown",
      "metadata": {
        "id": "vygTssTcuEm1"
      },
      "source": [
        "#### 25. Given a 1D array, negate all elements which are between 3 and 8, in place. (★☆☆) \n",
        "(**hint**: >, <=)"
      ]
    },
    {
      "cell_type": "code",
      "execution_count": 25,
      "metadata": {
        "id": "DkxhSZxEuEm1",
        "colab": {
          "base_uri": "https://localhost:8080/"
        },
        "outputId": "cfedb9a9-6eda-4920-8cca-583313d47f7b"
      },
      "outputs": [
        {
          "output_type": "stream",
          "name": "stdout",
          "text": [
            "[ 0  1  2  3 -4 -5 -6 -7 -8  9]\n"
          ]
        }
      ],
      "source": [
        "a=np.arange(10)\n",
        "a[(3<a)&(a<=8)]*=-1\n",
        "print(a)"
      ]
    },
    {
      "cell_type": "markdown",
      "metadata": {
        "id": "VB57Q7F-uEm1"
      },
      "source": [
        "#### 26. What is the output of the following script? (★☆☆) \n",
        "(**hint**: np.sum)"
      ]
    },
    {
      "cell_type": "markdown",
      "metadata": {
        "id": "hVwp4aZHuEm1"
      },
      "source": [
        "```python\n",
        "# Author: Jake VanderPlas\n",
        "\n",
        "print(sum(range(5),-1))\n",
        "from numpy import *\n",
        "print(sum(range(5),-1))\n",
        "```"
      ]
    },
    {
      "cell_type": "code",
      "execution_count": 26,
      "metadata": {
        "id": "3yLNJU5WuEm1",
        "colab": {
          "base_uri": "https://localhost:8080/"
        },
        "outputId": "b880010c-1a6a-4cce-e6cb-9a5bcd80092a"
      },
      "outputs": [
        {
          "output_type": "stream",
          "name": "stdout",
          "text": [
            "9\n",
            "10\n"
          ]
        }
      ],
      "source": [
        " print(sum(range(5),-1))\n",
        "from numpy import *\n",
        "print(sum(range(5),-1))"
      ]
    },
    {
      "cell_type": "markdown",
      "metadata": {
        "id": "q5gQxpfYuEm1"
      },
      "source": [
        "#### 27. Consider an integer vector Z, which of these expressions are legal? (★☆☆)"
      ]
    },
    {
      "cell_type": "markdown",
      "metadata": {
        "id": "o_ordz9MuEm2"
      },
      "source": [
        "```python\n",
        "Z**Z\n",
        "2 << Z >> 2\n",
        "Z <- Z\n",
        "1j*Z\n",
        "Z/1/1\n",
        "Z<Z>Z\n",
        "```"
      ]
    },
    {
      "cell_type": "code",
      "execution_count": 27,
      "metadata": {
        "id": "Iop-wvJeuEm2",
        "colab": {
          "base_uri": "https://localhost:8080/",
          "height": 200
        },
        "outputId": "1e1ab76c-3fe4-44a3-f95d-da842ff9054a"
      },
      "outputs": [
        {
          "output_type": "error",
          "ename": "ValueError",
          "evalue": "ignored",
          "traceback": [
            "\u001b[0;31m---------------------------------------------------------------------------\u001b[0m",
            "\u001b[0;31mValueError\u001b[0m                                Traceback (most recent call last)",
            "\u001b[0;32m<ipython-input-27-981dc37b00f8>\u001b[0m in \u001b[0;36m<module>\u001b[0;34m\u001b[0m\n\u001b[1;32m      5\u001b[0m \u001b[0;36m1j\u001b[0m\u001b[0;34m*\u001b[0m\u001b[0mZ\u001b[0m             \u001b[0;31m#[0.+0.j, 0.+1.j, 0.+2.j, 0.+3.j, 0.+4.j]\u001b[0m\u001b[0;34m\u001b[0m\u001b[0;34m\u001b[0m\u001b[0m\n\u001b[1;32m      6\u001b[0m \u001b[0mZ\u001b[0m\u001b[0;34m/\u001b[0m\u001b[0;36m1\u001b[0m\u001b[0;34m/\u001b[0m\u001b[0;36m1\u001b[0m            \u001b[0;31m#[0., 1., 2., 3., 4.]           #ValueError\u001b[0m\u001b[0;34m\u001b[0m\u001b[0;34m\u001b[0m\u001b[0m\n\u001b[0;32m----> 7\u001b[0;31m \u001b[0mz\u001b[0m\u001b[0;34m<\u001b[0m\u001b[0mz\u001b[0m\u001b[0;34m>\u001b[0m\u001b[0mz\u001b[0m\u001b[0;34m\u001b[0m\u001b[0;34m\u001b[0m\u001b[0m\n\u001b[0m",
            "\u001b[0;31mValueError\u001b[0m: The truth value of an array with more than one element is ambiguous. Use a.any() or a.all()"
          ]
        }
      ],
      "source": [
        "Z=np.arange(5)\n",
        "Z**Z              #[  1,   1,   4,  27, 256]\n",
        "2 << Z >> 2      #[0, 1, 2, 4, 8]\n",
        "Z <- Z           #[False, False, False, False, False]\n",
        "1j*Z             #[0.+0.j, 0.+1.j, 0.+2.j, 0.+3.j, 0.+4.j]\n",
        "Z/1/1            #[0., 1., 2., 3., 4.]           #ValueError\n",
        "z<z>z"
      ]
    },
    {
      "cell_type": "markdown",
      "metadata": {
        "id": "cjRv4W4GuEm2"
      },
      "source": [
        "#### 28. What are the result of the following expressions?"
      ]
    },
    {
      "cell_type": "markdown",
      "metadata": {
        "id": "djio_nAauEm2"
      },
      "source": [
        "```python\n",
        "np.array(0) / np.array(0)\n",
        "np.array(0) // np.array(0)\n",
        "np.array([np.nan]).astype(int).astype(float)\n",
        "```"
      ]
    },
    {
      "cell_type": "code",
      "execution_count": 28,
      "metadata": {
        "id": "AZ9ennX1uEm2",
        "colab": {
          "base_uri": "https://localhost:8080/"
        },
        "outputId": "9a760683-5b05-47de-e20e-369e63b18290"
      },
      "outputs": [
        {
          "output_type": "stream",
          "name": "stderr",
          "text": [
            "/usr/local/lib/python3.7/dist-packages/ipykernel_launcher.py:1: RuntimeWarning: invalid value encountered in true_divide\n",
            "  \"\"\"Entry point for launching an IPython kernel.\n",
            "/usr/local/lib/python3.7/dist-packages/ipykernel_launcher.py:2: RuntimeWarning: divide by zero encountered in floor_divide\n",
            "  \n"
          ]
        },
        {
          "output_type": "execute_result",
          "data": {
            "text/plain": [
              "array([-9.22337204e+18])"
            ]
          },
          "metadata": {},
          "execution_count": 28
        }
      ],
      "source": [
        "np.array(0) / np.array(0)                       #nan\n",
        "np.array(0) // np.array(0)                      #0\n",
        "np.array([np.nan]).astype(int).astype(float)    #[-9.22337204e+18]"
      ]
    },
    {
      "cell_type": "markdown",
      "metadata": {
        "id": "C4fwC-AOuEm2"
      },
      "source": [
        "#### 29. How to round away from zero a float array ? (★☆☆) \n",
        "(**hint**: np.uniform, np.copysign, np.ceil, np.abs)"
      ]
    },
    {
      "cell_type": "code",
      "execution_count": 29,
      "metadata": {
        "id": "xjRvkgY9uEm2",
        "colab": {
          "base_uri": "https://localhost:8080/"
        },
        "outputId": "fe2c35c5-2c87-4c52-8594-93bb9553cc6c"
      },
      "outputs": [
        {
          "output_type": "stream",
          "name": "stdout",
          "text": [
            "[ 8.  2.  8. -6.  7. -5. -8.  9.  8. -7.]\n"
          ]
        }
      ],
      "source": [
        "a=np.random.uniform(-10,+10,10)\n",
        "print (np.copysign(np.ceil(np.abs(a)), a))\n"
      ]
    },
    {
      "cell_type": "markdown",
      "metadata": {
        "id": "vSE5U1kjuEm3"
      },
      "source": [
        "#### 30. How to find common values between two arrays? (★☆☆) \n",
        "(**hint**: np.intersect1d)"
      ]
    },
    {
      "cell_type": "code",
      "execution_count": 30,
      "metadata": {
        "id": "ekOALLwVuEm3",
        "colab": {
          "base_uri": "https://localhost:8080/"
        },
        "outputId": "19dd08e7-badc-4faa-b832-842e23248fff"
      },
      "outputs": [
        {
          "output_type": "execute_result",
          "data": {
            "text/plain": [
              "array([5, 6, 7, 8, 9])"
            ]
          },
          "metadata": {},
          "execution_count": 30
        }
      ],
      "source": [
        "x=np.arange(0,10)\n",
        "y=np.arange(5,15)\n",
        "np.intersect1d(x,y)"
      ]
    },
    {
      "cell_type": "markdown",
      "metadata": {
        "id": "-iYuCTn3uEm3"
      },
      "source": [
        "#### 31. How to ignore all numpy warnings (not recommended)? (★☆☆) \n",
        "(**hint**: np.seterr, np.errstate)"
      ]
    },
    {
      "cell_type": "code",
      "execution_count": 31,
      "metadata": {
        "id": "beFpJfBMuEm3"
      },
      "outputs": [],
      "source": [
        "# Suicide mode on\n",
        "defaults = np.seterr(all=\"ignore\")\n",
        "Z = np.ones(1) / 0\n",
        "\n",
        "# Back to sanity\n",
        "_ = np.seterr(**defaults)\n"
      ]
    },
    {
      "cell_type": "markdown",
      "metadata": {
        "id": "GwtzNnvXuEm3"
      },
      "source": [
        "#### 32. Is the following expressions true? (★☆☆) \n",
        "(**hint**: imaginary number)"
      ]
    },
    {
      "cell_type": "markdown",
      "metadata": {
        "id": "-4HkdsW2uEm3"
      },
      "source": [
        "```python\n",
        "np.sqrt(-1) == np.emath.sqrt(-1)\n",
        "```"
      ]
    },
    {
      "cell_type": "code",
      "execution_count": 32,
      "metadata": {
        "id": "r0Pt7f5VuEm3",
        "colab": {
          "base_uri": "https://localhost:8080/"
        },
        "outputId": "25686c44-bffd-43e1-995d-ae49007bd8ed"
      },
      "outputs": [
        {
          "output_type": "stream",
          "name": "stderr",
          "text": [
            "/usr/local/lib/python3.7/dist-packages/ipykernel_launcher.py:1: RuntimeWarning: invalid value encountered in sqrt\n",
            "  \"\"\"Entry point for launching an IPython kernel.\n"
          ]
        },
        {
          "output_type": "execute_result",
          "data": {
            "text/plain": [
              "False"
            ]
          },
          "metadata": {},
          "execution_count": 32
        }
      ],
      "source": [
        "np.sqrt(-1) == np.emath.sqrt(-1) #False"
      ]
    },
    {
      "cell_type": "markdown",
      "metadata": {
        "id": "SE_fek8tuEm3"
      },
      "source": [
        "#### 33. How to get the dates of yesterday, today and tomorrow? (★☆☆) \n",
        "(**hint**: np.datetime64, np.timedelta64)"
      ]
    },
    {
      "cell_type": "code",
      "execution_count": 33,
      "metadata": {
        "collapsed": true,
        "id": "1uBJr9-iuEm4"
      },
      "outputs": [],
      "source": [
        "yesterday=np.datetime64(\"today\",\"D\")-np.timedelta64(1,\"D\")\n",
        "today=np.datetime64(\"today\",\"D\")\n",
        "tomorrow=np.datetime64(\"today\",\"D\")+np.timedelta64(1,\"D\")\n"
      ]
    },
    {
      "cell_type": "markdown",
      "metadata": {
        "id": "RPtiZC7BuEm4"
      },
      "source": [
        "#### 34. How to get all the dates corresponding to the month of July 2016? (★★☆) \n",
        "(**hint**: np.arange(dtype=datetime64\\['D'\\]))"
      ]
    },
    {
      "cell_type": "code",
      "execution_count": 34,
      "metadata": {
        "id": "WX6-DYU7uEm4",
        "colab": {
          "base_uri": "https://localhost:8080/"
        },
        "outputId": "f95a75b1-76a7-495e-8237-387416f6977e"
      },
      "outputs": [
        {
          "output_type": "stream",
          "name": "stdout",
          "text": [
            "['2016-07-01' '2016-07-02' '2016-07-03' '2016-07-04' '2016-07-05'\n",
            " '2016-07-06' '2016-07-07' '2016-07-08' '2016-07-09' '2016-07-10'\n",
            " '2016-07-11' '2016-07-12' '2016-07-13' '2016-07-14' '2016-07-15'\n",
            " '2016-07-16' '2016-07-17' '2016-07-18' '2016-07-19' '2016-07-20'\n",
            " '2016-07-21' '2016-07-22' '2016-07-23' '2016-07-24' '2016-07-25'\n",
            " '2016-07-26' '2016-07-27' '2016-07-28' '2016-07-29' '2016-07-30'\n",
            " '2016-07-31']\n"
          ]
        }
      ],
      "source": [
        "x = np.arange('2016-07', '2016-08', dtype='datetime64[D]')\n",
        "print(x)"
      ]
    },
    {
      "cell_type": "markdown",
      "metadata": {
        "id": "8lctD7_CuEm4"
      },
      "source": [
        "#### 35. How to compute ((A+B)\\*(-A/2)) in place (without copy)? (★★☆) \n",
        "(**hint**: np.add(out=), np.negative(out=), np.multiply(out=), np.divide(out=))"
      ]
    },
    {
      "cell_type": "code",
      "execution_count": 35,
      "metadata": {
        "id": "VSOKmigcuEm4",
        "colab": {
          "base_uri": "https://localhost:8080/"
        },
        "outputId": "1642ba5f-4100-4b9d-af1d-f0d83f9535af"
      },
      "outputs": [
        {
          "output_type": "execute_result",
          "data": {
            "text/plain": [
              "array([-1.5, -1.5, -1.5])"
            ]
          },
          "metadata": {},
          "execution_count": 35
        }
      ],
      "source": [
        "A=np.ones(3)*1\n",
        "B=np.ones(3)*2\n",
        "np.add(A,B,out=B)\n",
        "np.negative(A,out=A)\n",
        "np.divide(A,2,out=A)\n",
        "np.multiply(A,B,out=A)"
      ]
    },
    {
      "cell_type": "markdown",
      "metadata": {
        "id": "hLg94R91uEm4"
      },
      "source": [
        "#### 36. Extract the integer part of a random array using 5 different methods (★★☆) \n",
        "(**hint**: %, np.floor, np.ceil, astype, np.trunc)"
      ]
    },
    {
      "cell_type": "code",
      "execution_count": 36,
      "metadata": {
        "id": "fOH9jK4ouEm4",
        "colab": {
          "base_uri": "https://localhost:8080/"
        },
        "outputId": "f1f5de1d-05a9-45a2-81e6-0705901f6f03"
      },
      "outputs": [
        {
          "output_type": "execute_result",
          "data": {
            "text/plain": [
              "array([ 5.,  9.,  6.,  5.,  1., -9., -9.,  5.,  5., -6.])"
            ]
          },
          "metadata": {},
          "execution_count": 36
        }
      ],
      "source": [
        "x = np.random.uniform(-10, +10, 10)\n",
        "x.astype(np.int32)\n",
        "np.trunc(x)"
      ]
    },
    {
      "cell_type": "markdown",
      "metadata": {
        "id": "KtXyC9rkuEm5"
      },
      "source": [
        "#### 37. Create a 5x5 matrix with row values ranging from 0 to 4 (★★☆) \n",
        "(**hint**: np.arange)"
      ]
    },
    {
      "cell_type": "code",
      "execution_count": 37,
      "metadata": {
        "id": "XWJooIM-uEm5"
      },
      "outputs": [],
      "source": [
        "x = np.zeros((5, 5))\n",
        "x += np.arange(5)"
      ]
    },
    {
      "cell_type": "markdown",
      "metadata": {
        "id": "-cc63dJzuEm5"
      },
      "source": [
        "#### 38. Consider a generator function that generates 10 integers and use it to build an array (★☆☆) \n",
        "(**hint**: np.fromiter)"
      ]
    },
    {
      "cell_type": "code",
      "execution_count": 38,
      "metadata": {
        "id": "XKnTMf79uEm5",
        "colab": {
          "base_uri": "https://localhost:8080/"
        },
        "outputId": "6831018a-534e-40c0-f780-659ad3167831"
      },
      "outputs": [
        {
          "output_type": "execute_result",
          "data": {
            "text/plain": [
              "array([0., 1., 2., 3., 4., 5., 6., 7., 8., 9.], dtype=float32)"
            ]
          },
          "metadata": {},
          "execution_count": 38
        }
      ],
      "source": [
        "def generate_integers():\n",
        "    for i in range(10):\n",
        "        yield i\n",
        "np.fromiter(generate_integers(), dtype=np.float32, count=-1)"
      ]
    },
    {
      "cell_type": "markdown",
      "metadata": {
        "id": "06e_wDFMuEm5"
      },
      "source": [
        "#### 39. Create a vector of size 10 with values ranging from 0 to 1, both excluded (★★☆) \n",
        "(**hint**: np.linspace)"
      ]
    },
    {
      "cell_type": "code",
      "execution_count": 39,
      "metadata": {
        "id": "TKxYAzd0uEm6",
        "colab": {
          "base_uri": "https://localhost:8080/"
        },
        "outputId": "a4ebdfdf-5442-42f8-9631-7190a2ade356"
      },
      "outputs": [
        {
          "output_type": "execute_result",
          "data": {
            "text/plain": [
              "array([0.        , 0.11111111, 0.22222222, 0.33333333, 0.44444444,\n",
              "       0.55555556, 0.66666667, 0.77777778, 0.88888889, 1.        ])"
            ]
          },
          "metadata": {},
          "execution_count": 39
        }
      ],
      "source": [
        "np.linspace(0,1,10, endpoint=True)"
      ]
    },
    {
      "cell_type": "markdown",
      "metadata": {
        "id": "GD6Zd2wyuEm6"
      },
      "source": [
        "#### 40. Create a random vector of size 10 and sort it (★★☆) \n",
        "(**hint**: sort)"
      ]
    },
    {
      "cell_type": "code",
      "execution_count": 40,
      "metadata": {
        "id": "uPlKjbmxuEm6"
      },
      "outputs": [],
      "source": [
        "s=np.random.random(size=10)\n",
        "s.sort()"
      ]
    },
    {
      "cell_type": "markdown",
      "metadata": {
        "id": "RA9InaJ_uEm6"
      },
      "source": [
        "#### 41. How to sum a small array faster than np.sum? (★★☆) \n",
        "(**hint**: np.add.reduce)"
      ]
    },
    {
      "cell_type": "code",
      "execution_count": 41,
      "metadata": {
        "id": "-sZ0X_nDuEm6",
        "colab": {
          "base_uri": "https://localhost:8080/"
        },
        "outputId": "df89e9b2-27c7-4880-ca36-40c05eec6c75"
      },
      "outputs": [
        {
          "output_type": "stream",
          "name": "stdout",
          "text": [
            "10.444402694702148\n",
            "8.67605209350586\n"
          ]
        }
      ],
      "source": [
        "\n",
        "import time\n",
        "\n",
        "start_time = time.time()\n",
        "x = np.arange(1000000)\n",
        "np.sum(x)\n",
        "end_time = time.time()\n",
        "print(str(1000*(end_time - start_time)))\n",
        "\n",
        "start_time2 = time.time()\n",
        "x = np.arange(1000000)\n",
        "np.add.reduce(x)\n",
        "end_time2 = time.time()\n",
        "print(str(1000*(end_time2 - start_time2)))"
      ]
    },
    {
      "cell_type": "markdown",
      "metadata": {
        "id": "Fx0y4jm0uEm6"
      },
      "source": [
        "#### 42. Consider two random array A and B, check if they are equal (★★☆) \n",
        "(**hint**: np.allclose, np.array\\_equal)"
      ]
    },
    {
      "cell_type": "code",
      "execution_count": 42,
      "metadata": {
        "id": "-S5QsgWnuEm7",
        "colab": {
          "base_uri": "https://localhost:8080/"
        },
        "outputId": "cc0156b1-15ef-4f1d-e7da-e1cb88e4b6f8"
      },
      "outputs": [
        {
          "output_type": "execute_result",
          "data": {
            "text/plain": [
              "True"
            ]
          },
          "metadata": {},
          "execution_count": 42
        }
      ],
      "source": [
        "A = np.arange(10)\n",
        "B = np.arange(10)\n",
        "np.array_equal(A, B)"
      ]
    },
    {
      "cell_type": "markdown",
      "metadata": {
        "id": "biTdVhUxuEm7"
      },
      "source": [
        "#### 43. Make an array immutable (read-only) (★★☆) \n",
        "(**hint**: flags.writeable)"
      ]
    },
    {
      "cell_type": "code",
      "execution_count": 43,
      "metadata": {
        "id": "w7-Dz2fFuEm7",
        "colab": {
          "base_uri": "https://localhost:8080/",
          "height": 200
        },
        "outputId": "5ce53cad-6ead-4d66-96ac-da880d571e2c"
      },
      "outputs": [
        {
          "output_type": "error",
          "ename": "ValueError",
          "evalue": "ignored",
          "traceback": [
            "\u001b[0;31m---------------------------------------------------------------------------\u001b[0m",
            "\u001b[0;31mValueError\u001b[0m                                Traceback (most recent call last)",
            "\u001b[0;32m<ipython-input-43-2c37cbcb6cf7>\u001b[0m in \u001b[0;36m<module>\u001b[0;34m\u001b[0m\n\u001b[1;32m      1\u001b[0m \u001b[0mx\u001b[0m \u001b[0;34m=\u001b[0m \u001b[0mnp\u001b[0m\u001b[0;34m.\u001b[0m\u001b[0mzeros\u001b[0m\u001b[0;34m(\u001b[0m\u001b[0;36m10\u001b[0m\u001b[0;34m)\u001b[0m\u001b[0;34m\u001b[0m\u001b[0;34m\u001b[0m\u001b[0m\n\u001b[1;32m      2\u001b[0m \u001b[0mx\u001b[0m\u001b[0;34m.\u001b[0m\u001b[0mflags\u001b[0m\u001b[0;34m.\u001b[0m\u001b[0mwriteable\u001b[0m \u001b[0;34m=\u001b[0m \u001b[0;32mFalse\u001b[0m\u001b[0;34m\u001b[0m\u001b[0;34m\u001b[0m\u001b[0m\n\u001b[0;32m----> 3\u001b[0;31m \u001b[0mx\u001b[0m\u001b[0;34m[\u001b[0m\u001b[0;36m1\u001b[0m\u001b[0;34m]\u001b[0m \u001b[0;34m=\u001b[0m \u001b[0;36m1\u001b[0m\u001b[0;34m\u001b[0m\u001b[0;34m\u001b[0m\u001b[0m\n\u001b[0m",
            "\u001b[0;31mValueError\u001b[0m: assignment destination is read-only"
          ]
        }
      ],
      "source": [
        "x = np.zeros(10)\n",
        "x.flags.writeable = False\n",
        "x[1] = 1"
      ]
    },
    {
      "cell_type": "markdown",
      "metadata": {
        "id": "1Z2SqN1suEm7"
      },
      "source": [
        "#### 44. Consider a random 10x2 matrix representing cartesian coordinates, convert them to polar coordinates (★★☆) \n",
        "(**hint**: np.sqrt, np.arctan2)"
      ]
    },
    {
      "cell_type": "code",
      "execution_count": null,
      "metadata": {
        "id": "vmdwytXxuEm7"
      },
      "outputs": [],
      "source": [
        "Z = np.random.random((10, 2))\n",
        "X, Y = Z[:, 0], Z[:, 1]\n",
        "S = np.sqrt(X ** 2 + Y ** 2)\n",
        "T = np.arctan2(Y, X)\n",
        "print(S)\n",
        "print(T)"
      ]
    },
    {
      "cell_type": "markdown",
      "metadata": {
        "id": "sXZMOe0TuEm7"
      },
      "source": [
        "#### 45. Create random vector of size 10 and replace the maximum value by 0 (★★☆) \n",
        "(**hint**: argmax)"
      ]
    },
    {
      "cell_type": "code",
      "execution_count": 44,
      "metadata": {
        "id": "MY-iNYUouEm7"
      },
      "outputs": [],
      "source": [
        "x = np.random.random(10)\n",
        "x[x == np.max(x)] = 0\n",
        "x[x.argmax()] = 0"
      ]
    },
    {
      "cell_type": "markdown",
      "metadata": {
        "id": "48WE_jUpuEm7"
      },
      "source": [
        "#### 46. Create a structured array with `x` and `y` coordinates covering the \\[0,1\\]x\\[0,1\\] area (★★☆) \n",
        "(**hint**: np.meshgrid)"
      ]
    },
    {
      "cell_type": "code",
      "execution_count": 45,
      "metadata": {
        "id": "XKMF0B8auEm7"
      },
      "outputs": [],
      "source": [
        "z = np.zeros((5, 5), [('x', float), ('y', float)])\n",
        "z['x'], z['y'] = np.meshgrid(np.linspace(0, 1, 5), np.linspace(0, 1, 5))"
      ]
    },
    {
      "cell_type": "markdown",
      "metadata": {
        "id": "U_IVzGIyuEm8"
      },
      "source": [
        "####  47. Given two arrays, X and Y, construct the Cauchy matrix C (Cij =1/(xi - yj)) \n",
        "(**hint**: np.subtract.outer)"
      ]
    },
    {
      "cell_type": "code",
      "execution_count": 46,
      "metadata": {
        "id": "GXbHV63_uEm8",
        "colab": {
          "base_uri": "https://localhost:8080/"
        },
        "outputId": "74eb43d3-4eaf-444e-e520-0cd4e198bebe"
      },
      "outputs": [
        {
          "output_type": "execute_result",
          "data": {
            "text/plain": [
              "array([[ 1.87319322e+02, -5.68608590e+05,  1.25512749e+07,\n",
              "         4.67379308e+02,  2.08477052e+05],\n",
              "       [ 6.17086588e+02, -7.20009339e+05,  3.02076422e+04,\n",
              "        -1.30255152e+06,  1.20866792e+05],\n",
              "       [ 4.28973808e+04,  2.17776238e+05,  3.73807744e+06,\n",
              "         6.84241903e+06,  1.18847787e+05],\n",
              "       [ 5.97402336e+06, -2.04355843e+04, -3.01074908e+06,\n",
              "        -1.78304392e+04,  8.85123931e+06],\n",
              "       [ 5.55775354e+06, -3.73220925e+03,  8.33855713e+04,\n",
              "        -3.76302512e+03,  1.81064302e+04]])"
            ]
          },
          "metadata": {},
          "execution_count": 46
        }
      ],
      "source": [
        "x = np.random.random((5, 5))\n",
        "y = np.random.random((5, 5))\n",
        "c = 1 / (x - y)\n",
        "c = 1 / np.subtract.outer(x, y)\n",
        "np.linalg.det(c)"
      ]
    },
    {
      "cell_type": "markdown",
      "metadata": {
        "id": "d1hGGUmFuEm8"
      },
      "source": [
        "#### 48. Print the minimum and maximum representable value for each numpy scalar type (★★☆) \n",
        "(**hint**: np.iinfo, np.finfo, eps)"
      ]
    },
    {
      "cell_type": "code",
      "execution_count": 47,
      "metadata": {
        "id": "d8VxSB-XuEm8",
        "colab": {
          "base_uri": "https://localhost:8080/"
        },
        "outputId": "b3486cda-4b41-4f34-b4d0-5ea398c83e3f"
      },
      "outputs": [
        {
          "output_type": "stream",
          "name": "stdout",
          "text": [
            "-128\n",
            "127\n",
            "-2147483648\n",
            "2147483647\n",
            "-9223372036854775808\n",
            "9223372036854775807\n",
            "-3.4028235e+38\n",
            "3.4028235e+38\n",
            "1.1920929e-07\n",
            "-1.7976931348623157e+308\n",
            "1.7976931348623157e+308\n",
            "2.220446049250313e-16\n"
          ]
        }
      ],
      "source": [
        "for dtype in [np.int8, np.int32, np.int64]:\n",
        "   print(np.iinfo(dtype).min)\n",
        "   print(np.iinfo(dtype).max)\n",
        "for dtype in [np.float32, np.float64]:\n",
        "   print(np.finfo(dtype).min)\n",
        "   print(np.finfo(dtype).max)\n",
        "   print(np.finfo(dtype).eps)"
      ]
    },
    {
      "cell_type": "markdown",
      "metadata": {
        "id": "csgJ_uU4uEm8"
      },
      "source": [
        "#### 49. How to print all the values of an array? (★★☆) \n",
        "(**hint**: np.set\\_printoptions)"
      ]
    },
    {
      "cell_type": "code",
      "execution_count": 48,
      "metadata": {
        "id": "EmWT0CpUuEm8",
        "colab": {
          "base_uri": "https://localhost:8080/"
        },
        "outputId": "7f8f3183-fdb0-45bf-a6d0-d6c919e864ef"
      },
      "outputs": [
        {
          "output_type": "stream",
          "name": "stdout",
          "text": [
            "[[0. 0. 0. 0. 0. 0. 0. 0. 0. 0. 0. 0. 0. 0. 0. 0. 0. 0. 0. 0. 0. 0. 0. 0.\n",
            "  0. 0. 0. 0. 0. 0. 0. 0. 0. 0. 0. 0. 0. 0. 0. 0.]\n",
            " [0. 0. 0. 0. 0. 0. 0. 0. 0. 0. 0. 0. 0. 0. 0. 0. 0. 0. 0. 0. 0. 0. 0. 0.\n",
            "  0. 0. 0. 0. 0. 0. 0. 0. 0. 0. 0. 0. 0. 0. 0. 0.]\n",
            " [0. 0. 0. 0. 0. 0. 0. 0. 0. 0. 0. 0. 0. 0. 0. 0. 0. 0. 0. 0. 0. 0. 0. 0.\n",
            "  0. 0. 0. 0. 0. 0. 0. 0. 0. 0. 0. 0. 0. 0. 0. 0.]\n",
            " [0. 0. 0. 0. 0. 0. 0. 0. 0. 0. 0. 0. 0. 0. 0. 0. 0. 0. 0. 0. 0. 0. 0. 0.\n",
            "  0. 0. 0. 0. 0. 0. 0. 0. 0. 0. 0. 0. 0. 0. 0. 0.]\n",
            " [0. 0. 0. 0. 0. 0. 0. 0. 0. 0. 0. 0. 0. 0. 0. 0. 0. 0. 0. 0. 0. 0. 0. 0.\n",
            "  0. 0. 0. 0. 0. 0. 0. 0. 0. 0. 0. 0. 0. 0. 0. 0.]\n",
            " [0. 0. 0. 0. 0. 0. 0. 0. 0. 0. 0. 0. 0. 0. 0. 0. 0. 0. 0. 0. 0. 0. 0. 0.\n",
            "  0. 0. 0. 0. 0. 0. 0. 0. 0. 0. 0. 0. 0. 0. 0. 0.]\n",
            " [0. 0. 0. 0. 0. 0. 0. 0. 0. 0. 0. 0. 0. 0. 0. 0. 0. 0. 0. 0. 0. 0. 0. 0.\n",
            "  0. 0. 0. 0. 0. 0. 0. 0. 0. 0. 0. 0. 0. 0. 0. 0.]\n",
            " [0. 0. 0. 0. 0. 0. 0. 0. 0. 0. 0. 0. 0. 0. 0. 0. 0. 0. 0. 0. 0. 0. 0. 0.\n",
            "  0. 0. 0. 0. 0. 0. 0. 0. 0. 0. 0. 0. 0. 0. 0. 0.]\n",
            " [0. 0. 0. 0. 0. 0. 0. 0. 0. 0. 0. 0. 0. 0. 0. 0. 0. 0. 0. 0. 0. 0. 0. 0.\n",
            "  0. 0. 0. 0. 0. 0. 0. 0. 0. 0. 0. 0. 0. 0. 0. 0.]\n",
            " [0. 0. 0. 0. 0. 0. 0. 0. 0. 0. 0. 0. 0. 0. 0. 0. 0. 0. 0. 0. 0. 0. 0. 0.\n",
            "  0. 0. 0. 0. 0. 0. 0. 0. 0. 0. 0. 0. 0. 0. 0. 0.]\n",
            " [0. 0. 0. 0. 0. 0. 0. 0. 0. 0. 0. 0. 0. 0. 0. 0. 0. 0. 0. 0. 0. 0. 0. 0.\n",
            "  0. 0. 0. 0. 0. 0. 0. 0. 0. 0. 0. 0. 0. 0. 0. 0.]\n",
            " [0. 0. 0. 0. 0. 0. 0. 0. 0. 0. 0. 0. 0. 0. 0. 0. 0. 0. 0. 0. 0. 0. 0. 0.\n",
            "  0. 0. 0. 0. 0. 0. 0. 0. 0. 0. 0. 0. 0. 0. 0. 0.]\n",
            " [0. 0. 0. 0. 0. 0. 0. 0. 0. 0. 0. 0. 0. 0. 0. 0. 0. 0. 0. 0. 0. 0. 0. 0.\n",
            "  0. 0. 0. 0. 0. 0. 0. 0. 0. 0. 0. 0. 0. 0. 0. 0.]\n",
            " [0. 0. 0. 0. 0. 0. 0. 0. 0. 0. 0. 0. 0. 0. 0. 0. 0. 0. 0. 0. 0. 0. 0. 0.\n",
            "  0. 0. 0. 0. 0. 0. 0. 0. 0. 0. 0. 0. 0. 0. 0. 0.]\n",
            " [0. 0. 0. 0. 0. 0. 0. 0. 0. 0. 0. 0. 0. 0. 0. 0. 0. 0. 0. 0. 0. 0. 0. 0.\n",
            "  0. 0. 0. 0. 0. 0. 0. 0. 0. 0. 0. 0. 0. 0. 0. 0.]\n",
            " [0. 0. 0. 0. 0. 0. 0. 0. 0. 0. 0. 0. 0. 0. 0. 0. 0. 0. 0. 0. 0. 0. 0. 0.\n",
            "  0. 0. 0. 0. 0. 0. 0. 0. 0. 0. 0. 0. 0. 0. 0. 0.]\n",
            " [0. 0. 0. 0. 0. 0. 0. 0. 0. 0. 0. 0. 0. 0. 0. 0. 0. 0. 0. 0. 0. 0. 0. 0.\n",
            "  0. 0. 0. 0. 0. 0. 0. 0. 0. 0. 0. 0. 0. 0. 0. 0.]\n",
            " [0. 0. 0. 0. 0. 0. 0. 0. 0. 0. 0. 0. 0. 0. 0. 0. 0. 0. 0. 0. 0. 0. 0. 0.\n",
            "  0. 0. 0. 0. 0. 0. 0. 0. 0. 0. 0. 0. 0. 0. 0. 0.]\n",
            " [0. 0. 0. 0. 0. 0. 0. 0. 0. 0. 0. 0. 0. 0. 0. 0. 0. 0. 0. 0. 0. 0. 0. 0.\n",
            "  0. 0. 0. 0. 0. 0. 0. 0. 0. 0. 0. 0. 0. 0. 0. 0.]\n",
            " [0. 0. 0. 0. 0. 0. 0. 0. 0. 0. 0. 0. 0. 0. 0. 0. 0. 0. 0. 0. 0. 0. 0. 0.\n",
            "  0. 0. 0. 0. 0. 0. 0. 0. 0. 0. 0. 0. 0. 0. 0. 0.]\n",
            " [0. 0. 0. 0. 0. 0. 0. 0. 0. 0. 0. 0. 0. 0. 0. 0. 0. 0. 0. 0. 0. 0. 0. 0.\n",
            "  0. 0. 0. 0. 0. 0. 0. 0. 0. 0. 0. 0. 0. 0. 0. 0.]\n",
            " [0. 0. 0. 0. 0. 0. 0. 0. 0. 0. 0. 0. 0. 0. 0. 0. 0. 0. 0. 0. 0. 0. 0. 0.\n",
            "  0. 0. 0. 0. 0. 0. 0. 0. 0. 0. 0. 0. 0. 0. 0. 0.]\n",
            " [0. 0. 0. 0. 0. 0. 0. 0. 0. 0. 0. 0. 0. 0. 0. 0. 0. 0. 0. 0. 0. 0. 0. 0.\n",
            "  0. 0. 0. 0. 0. 0. 0. 0. 0. 0. 0. 0. 0. 0. 0. 0.]\n",
            " [0. 0. 0. 0. 0. 0. 0. 0. 0. 0. 0. 0. 0. 0. 0. 0. 0. 0. 0. 0. 0. 0. 0. 0.\n",
            "  0. 0. 0. 0. 0. 0. 0. 0. 0. 0. 0. 0. 0. 0. 0. 0.]\n",
            " [0. 0. 0. 0. 0. 0. 0. 0. 0. 0. 0. 0. 0. 0. 0. 0. 0. 0. 0. 0. 0. 0. 0. 0.\n",
            "  0. 0. 0. 0. 0. 0. 0. 0. 0. 0. 0. 0. 0. 0. 0. 0.]\n",
            " [0. 0. 0. 0. 0. 0. 0. 0. 0. 0. 0. 0. 0. 0. 0. 0. 0. 0. 0. 0. 0. 0. 0. 0.\n",
            "  0. 0. 0. 0. 0. 0. 0. 0. 0. 0. 0. 0. 0. 0. 0. 0.]\n",
            " [0. 0. 0. 0. 0. 0. 0. 0. 0. 0. 0. 0. 0. 0. 0. 0. 0. 0. 0. 0. 0. 0. 0. 0.\n",
            "  0. 0. 0. 0. 0. 0. 0. 0. 0. 0. 0. 0. 0. 0. 0. 0.]\n",
            " [0. 0. 0. 0. 0. 0. 0. 0. 0. 0. 0. 0. 0. 0. 0. 0. 0. 0. 0. 0. 0. 0. 0. 0.\n",
            "  0. 0. 0. 0. 0. 0. 0. 0. 0. 0. 0. 0. 0. 0. 0. 0.]\n",
            " [0. 0. 0. 0. 0. 0. 0. 0. 0. 0. 0. 0. 0. 0. 0. 0. 0. 0. 0. 0. 0. 0. 0. 0.\n",
            "  0. 0. 0. 0. 0. 0. 0. 0. 0. 0. 0. 0. 0. 0. 0. 0.]\n",
            " [0. 0. 0. 0. 0. 0. 0. 0. 0. 0. 0. 0. 0. 0. 0. 0. 0. 0. 0. 0. 0. 0. 0. 0.\n",
            "  0. 0. 0. 0. 0. 0. 0. 0. 0. 0. 0. 0. 0. 0. 0. 0.]\n",
            " [0. 0. 0. 0. 0. 0. 0. 0. 0. 0. 0. 0. 0. 0. 0. 0. 0. 0. 0. 0. 0. 0. 0. 0.\n",
            "  0. 0. 0. 0. 0. 0. 0. 0. 0. 0. 0. 0. 0. 0. 0. 0.]\n",
            " [0. 0. 0. 0. 0. 0. 0. 0. 0. 0. 0. 0. 0. 0. 0. 0. 0. 0. 0. 0. 0. 0. 0. 0.\n",
            "  0. 0. 0. 0. 0. 0. 0. 0. 0. 0. 0. 0. 0. 0. 0. 0.]\n",
            " [0. 0. 0. 0. 0. 0. 0. 0. 0. 0. 0. 0. 0. 0. 0. 0. 0. 0. 0. 0. 0. 0. 0. 0.\n",
            "  0. 0. 0. 0. 0. 0. 0. 0. 0. 0. 0. 0. 0. 0. 0. 0.]\n",
            " [0. 0. 0. 0. 0. 0. 0. 0. 0. 0. 0. 0. 0. 0. 0. 0. 0. 0. 0. 0. 0. 0. 0. 0.\n",
            "  0. 0. 0. 0. 0. 0. 0. 0. 0. 0. 0. 0. 0. 0. 0. 0.]\n",
            " [0. 0. 0. 0. 0. 0. 0. 0. 0. 0. 0. 0. 0. 0. 0. 0. 0. 0. 0. 0. 0. 0. 0. 0.\n",
            "  0. 0. 0. 0. 0. 0. 0. 0. 0. 0. 0. 0. 0. 0. 0. 0.]\n",
            " [0. 0. 0. 0. 0. 0. 0. 0. 0. 0. 0. 0. 0. 0. 0. 0. 0. 0. 0. 0. 0. 0. 0. 0.\n",
            "  0. 0. 0. 0. 0. 0. 0. 0. 0. 0. 0. 0. 0. 0. 0. 0.]\n",
            " [0. 0. 0. 0. 0. 0. 0. 0. 0. 0. 0. 0. 0. 0. 0. 0. 0. 0. 0. 0. 0. 0. 0. 0.\n",
            "  0. 0. 0. 0. 0. 0. 0. 0. 0. 0. 0. 0. 0. 0. 0. 0.]\n",
            " [0. 0. 0. 0. 0. 0. 0. 0. 0. 0. 0. 0. 0. 0. 0. 0. 0. 0. 0. 0. 0. 0. 0. 0.\n",
            "  0. 0. 0. 0. 0. 0. 0. 0. 0. 0. 0. 0. 0. 0. 0. 0.]\n",
            " [0. 0. 0. 0. 0. 0. 0. 0. 0. 0. 0. 0. 0. 0. 0. 0. 0. 0. 0. 0. 0. 0. 0. 0.\n",
            "  0. 0. 0. 0. 0. 0. 0. 0. 0. 0. 0. 0. 0. 0. 0. 0.]\n",
            " [0. 0. 0. 0. 0. 0. 0. 0. 0. 0. 0. 0. 0. 0. 0. 0. 0. 0. 0. 0. 0. 0. 0. 0.\n",
            "  0. 0. 0. 0. 0. 0. 0. 0. 0. 0. 0. 0. 0. 0. 0. 0.]]\n"
          ]
        }
      ],
      "source": [
        "np.set_printoptions(threshold=float(\"inf\"))\n",
        "Z = np.zeros((40,40))\n",
        "print(Z)"
      ]
    },
    {
      "cell_type": "markdown",
      "metadata": {
        "id": "RU2blu2auEm8"
      },
      "source": [
        "#### 50. How to find the closest value (to a given scalar) in a vector? (★★☆) \n",
        "(**hint**: argmin)"
      ]
    },
    {
      "cell_type": "code",
      "execution_count": 49,
      "metadata": {
        "id": "ZRaMwuqSuEm8",
        "colab": {
          "base_uri": "https://localhost:8080/"
        },
        "outputId": "34195259-6d9d-4b73-8533-2125aa27f674"
      },
      "outputs": [
        {
          "output_type": "stream",
          "name": "stdout",
          "text": [
            "805\n"
          ]
        }
      ],
      "source": [
        "Z = np.arange(1000)\n",
        "v = np.random.uniform(0,1000)\n",
        "index = (np.abs(Z-v)).argmin()\n",
        "print(Z[index])"
      ]
    },
    {
      "cell_type": "markdown",
      "metadata": {
        "id": "875yEZpzuEm8"
      },
      "source": [
        "#### 51. Create a structured array representing a position (x,y) and a color (r,g,b) (★★☆) \n",
        "(**hint**: dtype)"
      ]
    },
    {
      "cell_type": "code",
      "execution_count": 50,
      "metadata": {
        "id": "ald33Kj3uEm9",
        "colab": {
          "base_uri": "https://localhost:8080/"
        },
        "outputId": "d0fa9eab-cd90-4c64-fb07-18a909be17bc"
      },
      "outputs": [
        {
          "output_type": "stream",
          "name": "stdout",
          "text": [
            "[((0., 0.), (0., 0., 0.)) ((0., 0.), (0., 0., 0.))\n",
            " ((0., 0.), (0., 0., 0.)) ((0., 0.), (0., 0., 0.))\n",
            " ((0., 0.), (0., 0., 0.)) ((0., 0.), (0., 0., 0.))\n",
            " ((0., 0.), (0., 0., 0.)) ((0., 0.), (0., 0., 0.))\n",
            " ((0., 0.), (0., 0., 0.)) ((0., 0.), (0., 0., 0.))]\n"
          ]
        },
        {
          "output_type": "stream",
          "name": "stderr",
          "text": [
            "/usr/local/lib/python3.7/dist-packages/ipykernel_launcher.py:5: FutureWarning: Passing (type, 1) or '1type' as a synonym of type is deprecated; in a future version of numpy, it will be understood as (type, (1,)) / '(1,)type'.\n",
            "  \"\"\"\n"
          ]
        }
      ],
      "source": [
        "Z = np.zeros(10, [ ('position', [ ('x', float, 1),\n",
        "                                  ('y', float, 1)]),\n",
        "                   ('color',    [ ('r', float, 1),\n",
        "                                  ('g', float, 1),\n",
        "                                  ('b', float, 1)])])\n",
        "print(Z)"
      ]
    },
    {
      "cell_type": "markdown",
      "metadata": {
        "id": "YPM9O-XXuEm9"
      },
      "source": [
        "#### 52. Consider a random vector with shape (100,2) representing coordinates, find point by point distances (★★☆) \n",
        "(**hint**: np.atleast\\_2d, T, np.sqrt)"
      ]
    },
    {
      "cell_type": "code",
      "execution_count": 51,
      "metadata": {
        "id": "mo4v1RYvuEm9",
        "colab": {
          "base_uri": "https://localhost:8080/"
        },
        "outputId": "3ab4456a-4b78-4597-e5ca-df19db87a457"
      },
      "outputs": [
        {
          "output_type": "stream",
          "name": "stdout",
          "text": [
            "[[0.         0.64610626 0.81226422 0.26305825 0.61212171 0.27539898\n",
            "  0.8708343  0.46034275 0.60231538 0.50663859]\n",
            " [0.64610626 0.         0.35182069 0.72149142 1.00046126 0.41082533\n",
            "  0.44040929 0.32095427 0.94643731 0.7101452 ]\n",
            " [0.81226422 0.35182069 0.         0.76803484 0.93371086 0.66468172\n",
            "  0.08859471 0.35342336 0.86593346 0.62460749]\n",
            " [0.26305825 0.72149142 0.76803484 0.         0.35544005 0.46625067\n",
            "  0.8029198  0.43613179 0.33981885 0.27682854]\n",
            " [0.61212171 1.00046126 0.93371086 0.35544005 0.         0.81557038\n",
            "  0.9360289  0.68189144 0.07236782 0.30994948]\n",
            " [0.27539898 0.41082533 0.66468172 0.46625067 0.81557038 0.\n",
            "  0.74077334 0.36283977 0.78624117 0.61410515]\n",
            " [0.8708343  0.44040929 0.08859471 0.8029198  0.9360289  0.74077334\n",
            "  0.         0.41081702 0.86608586 0.63162405]\n",
            " [0.46034275 0.32095427 0.35342336 0.43613179 0.68189144 0.36283977\n",
            "  0.41081702 0.         0.62611664 0.38942527]\n",
            " [0.60231538 0.94643731 0.86593346 0.33981885 0.07236782 0.78624117\n",
            "  0.86608586 0.62611664 0.         0.24508856]\n",
            " [0.50663859 0.7101452  0.62460749 0.27682854 0.30994948 0.61410515\n",
            "  0.63162405 0.38942527 0.24508856 0.        ]]\n"
          ]
        }
      ],
      "source": [
        "Z = np.random.random((10,2))\n",
        "X,Y = np.atleast_2d(Z[:,0], Z[:,1])\n",
        "D = np.sqrt( (X-X.T)**2 + (Y-Y.T)**2)\n",
        "print(D)"
      ]
    },
    {
      "cell_type": "markdown",
      "metadata": {
        "id": "hI0sjmPIuEm9"
      },
      "source": [
        "#### 53. How to convert a float (32 bits) array into an integer (32 bits) in place? \n",
        "(**hint**: astype(copy=False))"
      ]
    },
    {
      "cell_type": "code",
      "execution_count": 52,
      "metadata": {
        "id": "PP6Dv7NAuEm9",
        "colab": {
          "base_uri": "https://localhost:8080/"
        },
        "outputId": "ab1c2667-bb45-49c2-fde3-bf5eb19dcd83"
      },
      "outputs": [
        {
          "output_type": "stream",
          "name": "stdout",
          "text": [
            "[[0.         0.69988756 0.36980891 0.27012235 0.09099415 0.96556746\n",
            "  0.59671497 0.2102402  0.47185638 0.21359008]\n",
            " [0.69988756 0.         0.34159295 0.46516218 0.6207519  0.30991231\n",
            "  0.80270626 0.53943745 0.75694369 0.88796893]\n",
            " [0.36980891 0.34159295 0.         0.20783589 0.30284917 0.63451413\n",
            "  0.67946198 0.26372882 0.58781762 0.54734262]\n",
            " [0.27012235 0.46516218 0.20783589 0.         0.17947297 0.70425344\n",
            "  0.48208586 0.07457215 0.38267688 0.48237941]\n",
            " [0.09099415 0.6207519  0.30284917 0.17947297 0.         0.87872349\n",
            "  0.540536   0.12031618 0.41936672 0.30438714]\n",
            " [0.96556746 0.30991231 0.63451413 0.70425344 0.87872349 0.\n",
            "  0.89414985 0.77672489 0.8910914  1.1674278 ]\n",
            " [0.59671497 0.80270626 0.67946198 0.48208586 0.540536   0.89414985\n",
            "  0.         0.4614908  0.1259294  0.76519669]\n",
            " [0.2102402  0.53943745 0.26372882 0.07457215 0.12031618 0.77672489\n",
            "  0.4614908  0.         0.35055845 0.42375689]\n",
            " [0.47185638 0.75694369 0.58781762 0.38267688 0.41936672 0.8910914\n",
            "  0.1259294  0.35055845 0.         0.63973279]\n",
            " [0.21359008 0.88796893 0.54734262 0.48237941 0.30438714 1.1674278\n",
            "  0.76519669 0.42375689 0.63973279 0.        ]]\n"
          ]
        }
      ],
      "source": [
        "\n",
        "import scipy.spatial\n",
        "\n",
        "Z = np.random.random((10,2))\n",
        "D = scipy.spatial.distance.cdist(Z,Z)\n",
        "print(D)"
      ]
    },
    {
      "cell_type": "markdown",
      "metadata": {
        "id": "dw8RSf0VuEm9"
      },
      "source": [
        "#### 54. How to read the following file? (★★☆) \n",
        "(**hint**: np.genfromtxt)"
      ]
    },
    {
      "cell_type": "markdown",
      "metadata": {
        "id": "3uYnNhQnuEm-"
      },
      "source": [
        "```\n",
        "1, 2, 3, 4, 5\n",
        "6,  ,  , 7, 8\n",
        " ,  , 9,10,11\n",
        "```"
      ]
    },
    {
      "cell_type": "code",
      "execution_count": 53,
      "metadata": {
        "id": "GWeU2HaauEm-",
        "colab": {
          "base_uri": "https://localhost:8080/"
        },
        "outputId": "cc3bbfc9-7863-42f6-9dd2-ec915c0adde2"
      },
      "outputs": [
        {
          "output_type": "stream",
          "name": "stdout",
          "text": [
            "[ 1  2  3  4  5  6 -1 -1  7  8 -1  9 10 11]\n"
          ]
        },
        {
          "output_type": "stream",
          "name": "stderr",
          "text": [
            "/usr/local/lib/python3.7/dist-packages/ipykernel_launcher.py:3: DeprecationWarning: `np.int` is a deprecated alias for the builtin `int`. To silence this warning, use `int` by itself. Doing this will not modify any behavior and is safe. When replacing `np.int`, you may wish to use e.g. `np.int64` or `np.int32` to specify the precision. If you wish to review your current use, check the release note link for additional information.\n",
            "Deprecated in NumPy 1.20; for more details and guidance: https://numpy.org/devdocs/release/1.20.0-notes.html#deprecations\n",
            "  This is separate from the ipykernel package so we can avoid doing imports until\n"
          ]
        }
      ],
      "source": [
        "from io import StringIO\n",
        "s=StringIO(\"1, 2, 3, 4, 5,6,  ,  , 7, 8,  , 9,10,11\")\n",
        "d=np.genfromtxt(s,delimiter=\",\",dtype=np.int)\n",
        "print(d)"
      ]
    },
    {
      "cell_type": "markdown",
      "metadata": {
        "id": "k38dZgluuEm-"
      },
      "source": [
        "#### 55. What is the equivalent of enumerate for numpy arrays? (★★☆) \n",
        "(**hint**: np.ndenumerate, np.ndindex)"
      ]
    },
    {
      "cell_type": "code",
      "execution_count": 54,
      "metadata": {
        "id": "xJa0_gunuEm_",
        "colab": {
          "base_uri": "https://localhost:8080/"
        },
        "outputId": "6cef0af5-2484-47eb-d822-b0900bfea253"
      },
      "outputs": [
        {
          "output_type": "stream",
          "name": "stdout",
          "text": [
            "(0, 0) 0\n",
            "(0, 1) 1\n",
            "(0, 2) 2\n",
            "(1, 0) 3\n",
            "(1, 1) 4\n",
            "(1, 2) 5\n",
            "(2, 0) 6\n",
            "(2, 1) 7\n",
            "(2, 2) 8\n",
            "(0, 0) 0\n",
            "(0, 1) 1\n",
            "(0, 2) 2\n",
            "(1, 0) 3\n",
            "(1, 1) 4\n",
            "(1, 2) 5\n",
            "(2, 0) 6\n",
            "(2, 1) 7\n",
            "(2, 2) 8\n"
          ]
        }
      ],
      "source": [
        "z=np.arange(9).reshape(3,3)\n",
        "for index,value in np.ndenumerate(z):\n",
        "  print(index,value)\n",
        "for index in np.ndindex(z.shape):\n",
        "  print(index,z[index])"
      ]
    },
    {
      "cell_type": "markdown",
      "metadata": {
        "id": "o4Sjt-OMuEm_"
      },
      "source": [
        "#### 56. Generate a generic 2D Gaussian-like array (★★☆) \n",
        "(**hint**: np.meshgrid, np.exp)"
      ]
    },
    {
      "cell_type": "code",
      "execution_count": 55,
      "metadata": {
        "id": "d05gcxwKuEm_",
        "colab": {
          "base_uri": "https://localhost:8080/"
        },
        "outputId": "35a60e62-f7b5-4528-d6c5-344a67a838ab"
      },
      "outputs": [
        {
          "output_type": "stream",
          "name": "stdout",
          "text": [
            "[[3.72007598e-44 1.40996471e-35 3.83001581e-29 7.45639288e-25\n",
            "  1.04038215e-22 1.04038215e-22 7.45639288e-25 3.83001581e-29\n",
            "  1.40996471e-35 3.72007598e-44]\n",
            " [1.40996471e-35 5.34397817e-27 1.45163356e-20 2.82608497e-16\n",
            "  3.94320471e-14 3.94320471e-14 2.82608497e-16 1.45163356e-20\n",
            "  5.34397817e-27 1.40996471e-35]\n",
            " [3.83001581e-29 1.45163356e-20 3.94320471e-14 7.67675252e-10\n",
            "  1.07112868e-07 1.07112868e-07 7.67675252e-10 3.94320471e-14\n",
            "  1.45163356e-20 3.83001581e-29]\n",
            " [7.45639288e-25 2.82608497e-16 7.67675252e-10 1.49453385e-05\n",
            "  2.08530635e-03 2.08530635e-03 1.49453385e-05 7.67675252e-10\n",
            "  2.82608497e-16 7.45639288e-25]\n",
            " [1.04038215e-22 3.94320471e-14 1.07112868e-07 2.08530635e-03\n",
            "  2.90960459e-01 2.90960459e-01 2.08530635e-03 1.07112868e-07\n",
            "  3.94320471e-14 1.04038215e-22]\n",
            " [1.04038215e-22 3.94320471e-14 1.07112868e-07 2.08530635e-03\n",
            "  2.90960459e-01 2.90960459e-01 2.08530635e-03 1.07112868e-07\n",
            "  3.94320471e-14 1.04038215e-22]\n",
            " [7.45639288e-25 2.82608497e-16 7.67675252e-10 1.49453385e-05\n",
            "  2.08530635e-03 2.08530635e-03 1.49453385e-05 7.67675252e-10\n",
            "  2.82608497e-16 7.45639288e-25]\n",
            " [3.83001581e-29 1.45163356e-20 3.94320471e-14 7.67675252e-10\n",
            "  1.07112868e-07 1.07112868e-07 7.67675252e-10 3.94320471e-14\n",
            "  1.45163356e-20 3.83001581e-29]\n",
            " [1.40996471e-35 5.34397817e-27 1.45163356e-20 2.82608497e-16\n",
            "  3.94320471e-14 3.94320471e-14 2.82608497e-16 1.45163356e-20\n",
            "  5.34397817e-27 1.40996471e-35]\n",
            " [3.72007598e-44 1.40996471e-35 3.83001581e-29 7.45639288e-25\n",
            "  1.04038215e-22 1.04038215e-22 7.45639288e-25 3.83001581e-29\n",
            "  1.40996471e-35 3.72007598e-44]]\n"
          ]
        }
      ],
      "source": [
        "X, Y = np.meshgrid(np.linspace(-10,10,10), np.linspace(-10,10,10))\n",
        "D = np.sqrt(X*X+Y*Y)\n",
        "sigma, mu = 1.0, 0.0\n",
        "G = np.exp(-( (D-mu)**2 / ( 2.0 * sigma**2 ) ) )\n",
        "print(G)"
      ]
    },
    {
      "cell_type": "markdown",
      "metadata": {
        "id": "wknGh2MwuEm_"
      },
      "source": [
        "#### 57. How to randomly place p elements in a 2D array? (★★☆) \n",
        "(**hint**: np.put, np.random.choice)"
      ]
    },
    {
      "cell_type": "code",
      "execution_count": 56,
      "metadata": {
        "id": "FetoEkl5uEm_",
        "colab": {
          "base_uri": "https://localhost:8080/"
        },
        "outputId": "1622816d-8989-4b78-cf7e-278bf5916234"
      },
      "outputs": [
        {
          "output_type": "stream",
          "name": "stdout",
          "text": [
            "[[1. 0. 0. 0. 0. 0. 0. 0. 0. 0.]\n",
            " [0. 0. 0. 0. 0. 0. 0. 0. 0. 0.]\n",
            " [0. 0. 0. 0. 0. 0. 0. 0. 0. 0.]\n",
            " [0. 0. 0. 1. 0. 0. 0. 0. 0. 0.]\n",
            " [0. 0. 0. 0. 0. 0. 0. 0. 0. 0.]\n",
            " [0. 0. 0. 0. 0. 0. 0. 0. 0. 0.]\n",
            " [0. 0. 1. 0. 0. 0. 0. 0. 0. 0.]\n",
            " [0. 0. 0. 0. 0. 0. 0. 0. 0. 0.]\n",
            " [0. 0. 0. 0. 0. 0. 0. 0. 0. 0.]\n",
            " [0. 0. 0. 0. 0. 0. 0. 0. 0. 0.]]\n"
          ]
        }
      ],
      "source": [
        "n = 10\n",
        "p = 3\n",
        "Z = np.zeros((n,n))\n",
        "np.put(Z, np.random.choice(range(n*n), p, replace=False),1)\n",
        "print(Z)"
      ]
    },
    {
      "cell_type": "markdown",
      "metadata": {
        "id": "l38ZP8zhuEm_"
      },
      "source": [
        "#### 58. Subtract the mean of each row of a matrix (★★☆) \n",
        "(**hint**: mean(axis=,keepdims=))"
      ]
    },
    {
      "cell_type": "code",
      "execution_count": 57,
      "metadata": {
        "id": "s_vh1ZtyuEm_",
        "colab": {
          "base_uri": "https://localhost:8080/"
        },
        "outputId": "fb07e6cc-3945-4929-8b32-8bf65905d035"
      },
      "outputs": [
        {
          "output_type": "stream",
          "name": "stdout",
          "text": [
            "[[ 0.21213854  0.22407349  0.14970364 -0.64875065 -0.00951629 -0.26960541\n",
            "  -0.31376859  0.30756872  0.09566731  0.25248923]\n",
            " [-0.28347338 -0.10444277  0.01981327 -0.18778989 -0.0161456   0.38895401\n",
            "   0.32299879 -0.22737072  0.05908785  0.02836843]\n",
            " [ 0.39397741  0.21243448 -0.39360485 -0.24500939 -0.32874489  0.15849285\n",
            "   0.51897596 -0.39413784 -0.40503683  0.4826531 ]\n",
            " [ 0.27797199 -0.16943209 -0.10925985 -0.00837238 -0.47673791 -0.31750297\n",
            "   0.45006624  0.32714292  0.0445619  -0.01843785]\n",
            " [ 0.21801246  0.32345332  0.36524269  0.28036846 -0.10075789  0.00224519\n",
            "  -0.40205532 -0.4982329   0.29724134 -0.48551734]]\n"
          ]
        }
      ],
      "source": [
        "x=np.random.rand(5,10)\n",
        "y=x-x.mean(axis=1,keepdims=True)\n",
        "print(y)"
      ]
    },
    {
      "cell_type": "markdown",
      "metadata": {
        "id": "948sMTeDuEnA"
      },
      "source": [
        "#### 59. How to sort an array by the nth column? (★★☆) \n",
        "(**hint**: argsort)"
      ]
    },
    {
      "cell_type": "code",
      "execution_count": 58,
      "metadata": {
        "id": "d3t8XCgauEnA",
        "colab": {
          "base_uri": "https://localhost:8080/"
        },
        "outputId": "3d0b5be3-b1d2-4e6e-e3c1-7d7fcecc0940"
      },
      "outputs": [
        {
          "output_type": "stream",
          "name": "stdout",
          "text": [
            "[[2 7 8]\n",
            " [0 9 7]\n",
            " [7 8 1]]\n",
            "[[[2 7 8]\n",
            "  [0 9 7]\n",
            "  [7 8 1]]]\n"
          ]
        }
      ],
      "source": [
        "z=np.random.randint(0,10,(3,3))\n",
        "print(z)\n",
        "print(z[z[:1].argsort()])"
      ]
    },
    {
      "cell_type": "markdown",
      "metadata": {
        "id": "gNNzWhmQuEnA"
      },
      "source": [
        "#### 60. How to tell if a given 2D array has null columns? (★★☆) \n",
        "(**hint**: any, ~)"
      ]
    },
    {
      "cell_type": "code",
      "execution_count": 59,
      "metadata": {
        "id": "reFszXo7uEnA",
        "colab": {
          "base_uri": "https://localhost:8080/"
        },
        "outputId": "a31561c2-f188-462b-a290-7b765d0c9770"
      },
      "outputs": [
        {
          "output_type": "stream",
          "name": "stdout",
          "text": [
            "[[1 1 1 2 1 1 2 0 0 0]\n",
            " [2 2 2 2 0 0 0 2 2 2]\n",
            " [2 0 0 2 1 0 0 2 2 2]]\n",
            "False\n"
          ]
        }
      ],
      "source": [
        "z=np.random.randint(0,3,(3,10))\n",
        "print(z)\n",
        "print((~z.any(axis=0)).any())"
      ]
    },
    {
      "cell_type": "markdown",
      "metadata": {
        "id": "mdPptDvAuEnA"
      },
      "source": [
        "#### 61. Find the nearest value from a given value in an array (★★☆) \n",
        "(**hint**: np.abs, argmin, flat)"
      ]
    },
    {
      "cell_type": "code",
      "execution_count": 60,
      "metadata": {
        "id": "P9E0qnIPuEnA",
        "colab": {
          "base_uri": "https://localhost:8080/"
        },
        "outputId": "d195dbc8-12b6-46cc-9e1e-205a6f8b196d"
      },
      "outputs": [
        {
          "output_type": "stream",
          "name": "stdout",
          "text": [
            "0.4814446667123361\n"
          ]
        }
      ],
      "source": [
        "Z = np.random.uniform(0,1,10)\n",
        "z = 0.5\n",
        "m = Z.flat[np.abs(Z - z).argmin()]\n",
        "print(m)"
      ]
    },
    {
      "cell_type": "markdown",
      "metadata": {
        "id": "UreNb1vduEnA"
      },
      "source": [
        "#### 62. Considering two arrays with shape (1,3) and (3,1), how to compute their sum using an iterator? (★★☆) \n",
        "(**hint**: np.nditer)"
      ]
    },
    {
      "cell_type": "code",
      "execution_count": 61,
      "metadata": {
        "id": "P2TFTKhauEnA",
        "colab": {
          "base_uri": "https://localhost:8080/"
        },
        "outputId": "2e5a6110-d5a2-4dcd-9722-40b2bb97cb4c"
      },
      "outputs": [
        {
          "output_type": "stream",
          "name": "stdout",
          "text": [
            "[[2 7 8]\n",
            " [0 9 7]\n",
            " [7 8 1]]\n"
          ]
        }
      ],
      "source": [
        "A = np.arange(3).reshape(3,1)\n",
        "\n",
        "B = np.arange(3).reshape(1,3)\n",
        "\n",
        "it = np.nditer([A,B,None])\n",
        "print(it.operands[2])"
      ]
    },
    {
      "cell_type": "markdown",
      "metadata": {
        "id": "lWfCgvfcuEnA"
      },
      "source": [
        "#### 63. Create an array class that has a name attribute (★★☆) \n",
        "(**hint**: class method)"
      ]
    },
    {
      "cell_type": "code",
      "execution_count": 62,
      "metadata": {
        "id": "r1pN4dcLuEnB",
        "colab": {
          "base_uri": "https://localhost:8080/"
        },
        "outputId": "81046201-5b1f-49e5-f4dd-c186752a82dc"
      },
      "outputs": [
        {
          "output_type": "stream",
          "name": "stdout",
          "text": [
            "range_10\n"
          ]
        }
      ],
      "source": [
        "class NamedArray(np.ndarray):\n",
        "    def __new__(cls, array, name=\"no name\"):\n",
        "        obj = np.asarray(array).view(cls)\n",
        "        obj.name = name\n",
        "        return obj\n",
        "    def __array_finalize__(self, obj):\n",
        "        if obj is None: return\n",
        "        self.name = getattr(obj, 'name', \"no name\")\n",
        "\n",
        "Z = NamedArray(np.arange(10), \"range_10\")\n",
        "print (Z.name)"
      ]
    },
    {
      "cell_type": "markdown",
      "metadata": {
        "id": "QNanyTBAuEnB"
      },
      "source": [
        "#### 64. Consider a given vector, how to add 1 to each element indexed by a second vector (be careful with repeated indices)? (★★★) \n",
        "(**hint**: np.bincount | np.add.at)"
      ]
    },
    {
      "cell_type": "code",
      "execution_count": 63,
      "metadata": {
        "id": "JadJhqI9uEnB",
        "colab": {
          "base_uri": "https://localhost:8080/"
        },
        "outputId": "b3296f50-d0b3-4623-db3f-d824b333c578"
      },
      "outputs": [
        {
          "output_type": "stream",
          "name": "stdout",
          "text": [
            "[1. 1. 1. 1. 1. 1. 1. 1. 1. 1.]\n",
            "[7 9 9 3 5 1 4 6 9 5 1 1 4 7 9 1 0 1 6 5]\n",
            "[2. 6. 1. 2. 3. 4. 3. 3. 1. 5.]\n"
          ]
        }
      ],
      "source": [
        "Z = np.ones(10)\n",
        "print(Z)\n",
        "I = np.random.randint(0,len(Z),20)\n",
        "print(I)\n",
        "np.add.at(Z,I,1)\n",
        "print(Z)"
      ]
    },
    {
      "cell_type": "markdown",
      "metadata": {
        "id": "LOIP6Yk5uEnB"
      },
      "source": [
        "#### 65. How to accumulate elements of a vector (X) to an array (F) based on an index list (I)? (★★★) \n",
        "(**hint**: np.bincount)"
      ]
    },
    {
      "cell_type": "code",
      "execution_count": 64,
      "metadata": {
        "id": "y2T588N9uEnB",
        "colab": {
          "base_uri": "https://localhost:8080/"
        },
        "outputId": "8b96566f-9c8a-48ce-84d1-24ac96679894"
      },
      "outputs": [
        {
          "output_type": "stream",
          "name": "stdout",
          "text": [
            "[6. 1. 0. 2. 0. 3. 0. 4. 0. 5.]\n"
          ]
        }
      ],
      "source": [
        "x=[1,2,3,4,5,6]\n",
        "f=[1,3,5,7,9,0]\n",
        "A=np.bincount(f,x)\n",
        "print(A)"
      ]
    },
    {
      "cell_type": "markdown",
      "metadata": {
        "id": "rdl8LW0fuEnB"
      },
      "source": [
        "#### 66. Considering a (w,h,3) image of (dtype=ubyte), compute the number of unique colors (★★★) \n",
        "(**hint**: np.unique)"
      ]
    },
    {
      "cell_type": "code",
      "execution_count": 65,
      "metadata": {
        "id": "PfAt7KIWuEnB",
        "colab": {
          "base_uri": "https://localhost:8080/"
        },
        "outputId": "a26338ff-75dc-40d6-8d4b-5d3a8ffd258a"
      },
      "outputs": [
        {
          "output_type": "stream",
          "name": "stdout",
          "text": [
            "64\n"
          ]
        }
      ],
      "source": [
        "w, h = 256, 256\n",
        "I = np.random.randint(0, 4, (h, w, 3)).astype(np.ubyte)\n",
        "colors = np.unique(I.reshape(-1, 3), axis=0)\n",
        "n = len(colors)\n",
        "print(n)"
      ]
    },
    {
      "cell_type": "markdown",
      "metadata": {
        "id": "zTSDDNfVuEnC"
      },
      "source": [
        "#### 67. Considering a four dimensions array, how to get sum over the last two axis at once? (★★★) \n",
        "(**hint**: sum(axis=(-2,-1)))"
      ]
    },
    {
      "cell_type": "code",
      "execution_count": 66,
      "metadata": {
        "id": "mswCy_pVuEnC",
        "colab": {
          "base_uri": "https://localhost:8080/"
        },
        "outputId": "f06f9225-bcca-4196-d0be-df99dad31815"
      },
      "outputs": [
        {
          "output_type": "stream",
          "name": "stdout",
          "text": [
            "[[67 49 53 54]\n",
            " [46 52 57 44]\n",
            " [47 53 80 55]]\n"
          ]
        }
      ],
      "source": [
        "A = np.random.randint(0,10,(3,4,3,4))\n",
        "\n",
        "sum = A.sum(axis=(-2,-1))\n",
        "print(sum)\n"
      ]
    },
    {
      "cell_type": "markdown",
      "metadata": {
        "id": "BPmbLkA5uEnC"
      },
      "source": [
        "#### 68. Considering a one-dimensional vector D, how to compute means of subsets of D using a vector S of same size describing subset  indices? (★★★) \n",
        "(**hint**: np.bincount)"
      ]
    },
    {
      "cell_type": "code",
      "execution_count": 67,
      "metadata": {
        "id": "74LPp92BuEnC",
        "colab": {
          "base_uri": "https://localhost:8080/"
        },
        "outputId": "23a7f32a-88dc-4ca7-8d9b-7fb3002d25ce"
      },
      "outputs": [
        {
          "output_type": "stream",
          "name": "stdout",
          "text": [
            "0.018555    8.753397\n",
            "0.035613    8.553953\n",
            "0.036397    3.973535\n",
            "0.049972    6.272554\n",
            "0.054981    6.070671\n",
            "              ...   \n",
            "0.927340    6.900471\n",
            "0.932918    0.352437\n",
            "0.977202    1.133630\n",
            "0.981663    5.045512\n",
            "0.990778    6.420999\n",
            "Length: 100, dtype: float64\n"
          ]
        }
      ],
      "source": [
        "D=np.random.uniform(0,10,100)\n",
        "S=np.random.uniform(0,1,100)\n",
        "import pandas as pd\n",
        "print(pd.Series(D).groupby(S).mean())"
      ]
    },
    {
      "cell_type": "markdown",
      "metadata": {
        "id": "8AKdVC1IuEnC"
      },
      "source": [
        "#### 69. How to get the diagonal of a dot product? (★★★) \n",
        "(**hint**: np.diag)"
      ]
    },
    {
      "cell_type": "code",
      "execution_count": 68,
      "metadata": {
        "id": "_Ndzg3CNuEnC",
        "colab": {
          "base_uri": "https://localhost:8080/"
        },
        "outputId": "6848842c-0c2a-4959-a03b-fd6acd8a25f8"
      },
      "outputs": [
        {
          "output_type": "execute_result",
          "data": {
            "text/plain": [
              "array([125.70194954, 220.87240197, 135.21753288,  87.36409635,\n",
              "       143.42640156])"
            ]
          },
          "metadata": {},
          "execution_count": 68
        }
      ],
      "source": [
        "A=np.random.uniform(0,10,(5,5))\n",
        "B=np.random.uniform(0,10,(5,5))\n",
        "np.diag(np.dot(A, B))"
      ]
    },
    {
      "cell_type": "markdown",
      "metadata": {
        "id": "jSwUYF3kuEnC"
      },
      "source": [
        "#### 70. Consider the vector \\[1, 2, 3, 4, 5\\], how to build a new vector with 3 consecutive zeros interleaved between each value? (★★★) \n",
        "(**hint**: array\\[::4\\])"
      ]
    },
    {
      "cell_type": "code",
      "execution_count": 69,
      "metadata": {
        "id": "K_0qZZSHuEnC",
        "colab": {
          "base_uri": "https://localhost:8080/"
        },
        "outputId": "84a4cc04-9020-4bc8-b6f8-218c4ab2a401"
      },
      "outputs": [
        {
          "output_type": "stream",
          "name": "stdout",
          "text": [
            "[1. 0. 0. 0. 2. 0. 0. 0. 3. 0. 0. 0. 4. 0. 0. 0. 5.]\n"
          ]
        }
      ],
      "source": [
        "Z = np.array([1,2,3,4,5])\n",
        "nz = 3\n",
        "Z0 = np.zeros(len(Z) + (len(Z)-1)*(nz))\n",
        "Z0[::nz+1] = Z\n",
        "print(Z0)"
      ]
    },
    {
      "cell_type": "markdown",
      "metadata": {
        "id": "OBmWWWLIuEnD"
      },
      "source": [
        "#### 71. Consider an array of dimension (5,5,3), how to mulitply it by an array with dimensions (5,5)? (★★★) \n",
        "(**hint**: array\\[:, :, None\\])"
      ]
    },
    {
      "cell_type": "code",
      "execution_count": 70,
      "metadata": {
        "collapsed": true,
        "id": "69T0jjM9uEnD",
        "colab": {
          "base_uri": "https://localhost:8080/"
        },
        "outputId": "e40de223-1aee-401e-c0ba-e730891d8a27"
      },
      "outputs": [
        {
          "output_type": "stream",
          "name": "stdout",
          "text": [
            "[[[2. 2. 2.]\n",
            "  [2. 2. 2.]\n",
            "  [2. 2. 2.]\n",
            "  [2. 2. 2.]\n",
            "  [2. 2. 2.]]\n",
            "\n",
            " [[2. 2. 2.]\n",
            "  [2. 2. 2.]\n",
            "  [2. 2. 2.]\n",
            "  [2. 2. 2.]\n",
            "  [2. 2. 2.]]\n",
            "\n",
            " [[2. 2. 2.]\n",
            "  [2. 2. 2.]\n",
            "  [2. 2. 2.]\n",
            "  [2. 2. 2.]\n",
            "  [2. 2. 2.]]\n",
            "\n",
            " [[2. 2. 2.]\n",
            "  [2. 2. 2.]\n",
            "  [2. 2. 2.]\n",
            "  [2. 2. 2.]\n",
            "  [2. 2. 2.]]\n",
            "\n",
            " [[2. 2. 2.]\n",
            "  [2. 2. 2.]\n",
            "  [2. 2. 2.]\n",
            "  [2. 2. 2.]\n",
            "  [2. 2. 2.]]]\n"
          ]
        }
      ],
      "source": [
        "A = np.ones((5,5,3))\n",
        "B = 2*np.ones((5,5))\n",
        "print(A * B[:,:,None])"
      ]
    },
    {
      "cell_type": "markdown",
      "metadata": {
        "id": "MLB3Xo9yuEnD"
      },
      "source": [
        "#### 72. How to swap two rows of an array? (★★★) \n",
        "(**hint**: array\\[\\[\\]\\] = array\\[\\[\\]\\])"
      ]
    },
    {
      "cell_type": "code",
      "execution_count": 71,
      "metadata": {
        "id": "atHLFV-tuEnD",
        "colab": {
          "base_uri": "https://localhost:8080/"
        },
        "outputId": "ae69eb5b-99d8-4bfe-b330-27aafbda2317"
      },
      "outputs": [
        {
          "output_type": "stream",
          "name": "stdout",
          "text": [
            "[[ 5  6  7  8  9]\n",
            " [ 0  1  2  3  4]\n",
            " [10 11 12 13 14]\n",
            " [15 16 17 18 19]\n",
            " [20 21 22 23 24]]\n"
          ]
        }
      ],
      "source": [
        "A = np.arange(25).reshape(5,5)\n",
        "A[[0,1]] = A[[1,0]]\n",
        "print(A)"
      ]
    },
    {
      "cell_type": "markdown",
      "metadata": {
        "id": "serfI7yfuEnE"
      },
      "source": [
        "#### 73. Consider a set of 10 triplets describing 10 triangles (with shared vertices), find the set of unique line segments composing all the  triangles (★★★) \n",
        "(**hint**: repeat, np.roll, np.sort, view, np.unique)"
      ]
    },
    {
      "cell_type": "code",
      "execution_count": 72,
      "metadata": {
        "id": "xkA__ymVuEnE",
        "colab": {
          "base_uri": "https://localhost:8080/"
        },
        "outputId": "fb23b708-d6ae-426b-c679-8e6cf313c275"
      },
      "outputs": [
        {
          "output_type": "stream",
          "name": "stdout",
          "text": [
            "[( 2,  5) ( 2, 10) ( 2, 59) ( 2, 90) ( 5,  9) ( 5, 59) ( 5, 88) ( 7, 36)\n",
            " ( 7, 38) ( 9, 88) (10, 90) (12, 63) (12, 87) (13, 49) (13, 76) (19, 44)\n",
            " (19, 70) (21, 54) (21, 99) (36, 38) (43, 65) (43, 88) (44, 70) (49, 76)\n",
            " (54, 99) (58, 88) (58, 98) (63, 87) (65, 88) (88, 98)]\n"
          ]
        }
      ],
      "source": [
        "faces = np.random.randint(0,100,(10,3))\n",
        "F = np.roll(faces.repeat(2,axis=1),-1,axis=1)\n",
        "F = F.reshape(len(F)*3,2)\n",
        "F = np.sort(F,axis=1)\n",
        "G = F.view( dtype=[('p0',F.dtype),('p1',F.dtype)] )\n",
        "G = np.unique(G)\n",
        "print(G)"
      ]
    },
    {
      "cell_type": "markdown",
      "metadata": {
        "id": "tr1GPQ9PuEnE"
      },
      "source": [
        "#### 74. Given an array C that is a bincount, how to produce an array A such that np.bincount(A) == C? (★★★) \n",
        "(**hint**: np.repeat)"
      ]
    },
    {
      "cell_type": "code",
      "execution_count": 73,
      "metadata": {
        "id": "3q5UfB2tuEnF",
        "colab": {
          "base_uri": "https://localhost:8080/"
        },
        "outputId": "dd10aa6a-98a4-4a82-a516-a9fb3c6ed1fb"
      },
      "outputs": [
        {
          "output_type": "stream",
          "name": "stdout",
          "text": [
            "[1 1 2 3 4 4 6]\n"
          ]
        }
      ],
      "source": [
        "C = np.bincount([1,1,2,3,4,4,6])\n",
        "A = np.repeat(np.arange(len(C)), C)\n",
        "print(A)"
      ]
    },
    {
      "cell_type": "markdown",
      "metadata": {
        "id": "iBqxfG3tuEnF"
      },
      "source": [
        "#### 75. How to compute averages using a sliding window over an array? (★★★) \n",
        "(**hint**: np.cumsum)"
      ]
    },
    {
      "cell_type": "code",
      "execution_count": 74,
      "metadata": {
        "id": "GVDycIDLuEnF",
        "colab": {
          "base_uri": "https://localhost:8080/"
        },
        "outputId": "e138b867-4937-4020-aa4a-0c737207f107"
      },
      "outputs": [
        {
          "output_type": "stream",
          "name": "stdout",
          "text": [
            "[ 1.  2.  3.  4.  5.  6.  7.  8.  9. 10. 11. 12. 13. 14. 15. 16. 17. 18.]\n"
          ]
        }
      ],
      "source": [
        "from numpy.lib.stride_tricks import sliding_window_view\n",
        "\n",
        "Z = np.arange(20)\n",
        "print(sliding_window_view(Z, window_shape=3).mean(axis=-1))"
      ]
    },
    {
      "cell_type": "markdown",
      "metadata": {
        "id": "OJGF1FQvuEnF"
      },
      "source": [
        "#### 76. Consider a one-dimensional array Z, build a two-dimensional array whose first row is (Z\\[0\\],Z\\[1\\],Z\\[2\\]) and each subsequent row is  shifted by 1 (last row should be (Z\\[-3\\],Z\\[-2\\],Z\\[-1\\]) (★★★) \n",
        "(**hint**: from numpy.lib import stride_tricks)"
      ]
    },
    {
      "cell_type": "code",
      "execution_count": 75,
      "metadata": {
        "id": "HK5VPswEuEnG",
        "colab": {
          "base_uri": "https://localhost:8080/"
        },
        "outputId": "6bed504a-7469-40d5-b136-69bb86e1cd46"
      },
      "outputs": [
        {
          "output_type": "stream",
          "name": "stdout",
          "text": [
            "[[0 1 2]\n",
            " [1 2 3]\n",
            " [2 3 4]\n",
            " [3 4 5]\n",
            " [4 5 6]\n",
            " [5 6 7]\n",
            " [6 7 8]\n",
            " [7 8 9]]\n"
          ]
        }
      ],
      "source": [
        "from numpy.lib import stride_tricks\n",
        "\n",
        "def rolling(a, window):\n",
        "    shape = (a.size - window + 1, window)\n",
        "    strides = (a.strides[0], a.strides[0])\n",
        "    return stride_tricks.as_strided(a, shape=shape, strides=strides)\n",
        "Z = rolling(np.arange(10), 3)\n",
        "print(Z)"
      ]
    },
    {
      "cell_type": "markdown",
      "metadata": {
        "id": "LD2LICmUuEnG"
      },
      "source": [
        "#### 77. How to negate a boolean, or to change the sign of a float inplace? (★★★) \n",
        "(**hint**: np.logical_not, np.negative)"
      ]
    },
    {
      "cell_type": "code",
      "execution_count": 76,
      "metadata": {
        "id": "9FQ2sp_yuEnH",
        "colab": {
          "base_uri": "https://localhost:8080/"
        },
        "outputId": "342d825e-4711-49dd-f298-e54b4983385c"
      },
      "outputs": [
        {
          "output_type": "execute_result",
          "data": {
            "text/plain": [
              "array([ 0.11996686, -0.29699196, -0.05100285,  0.67702248, -0.55781452,\n",
              "        0.01824062,  0.22992138,  0.91291425, -0.35402404, -0.84994739,\n",
              "       -0.97271828, -0.61127746, -0.36915327,  0.23982502, -0.00750689,\n",
              "        0.95471656, -0.23907237,  0.74694591,  0.23811948,  0.73617772,\n",
              "        0.01084644, -0.63817514,  0.1162439 , -0.82062692,  0.98532266,\n",
              "        0.60460359, -0.89389147,  0.2553255 ,  0.86765507,  0.88143899,\n",
              "       -0.26573646, -0.16360368, -0.52277902, -0.51389843, -0.37751691,\n",
              "       -0.42947999,  0.93712798, -0.72383567, -0.82348184, -0.92735336,\n",
              "        0.9639802 , -0.12115939, -0.37847639, -0.97077241, -0.29187545,\n",
              "        0.05949421, -0.31962561,  0.76902763, -0.6180719 , -0.95881174,\n",
              "        0.2531198 ,  0.95495629, -0.92387715,  0.71805925,  0.31106924,\n",
              "       -0.63298472,  0.46277087,  0.55147157, -0.59114745,  0.82231493,\n",
              "       -0.38460243, -0.90268118, -0.48623345, -0.02577407, -0.1739216 ,\n",
              "        0.01868483,  0.78295622, -0.97915974,  0.46282209, -0.14365221,\n",
              "       -0.35204541, -0.87046351, -0.7356669 ,  0.11191721,  0.7144185 ,\n",
              "        0.40191975, -0.42841779, -0.17820876, -0.13465812,  0.69876143,\n",
              "        0.69349209,  0.04610516,  0.11995882, -0.99634877,  0.41519695,\n",
              "       -0.49093559, -0.13303931,  0.50006347,  0.0433611 ,  0.15296183,\n",
              "        0.18055778, -0.77603124,  0.87456666,  0.1472548 ,  0.52025569,\n",
              "       -0.10523848, -0.24930719,  0.26476546,  0.61625689,  0.09917709])"
            ]
          },
          "metadata": {},
          "execution_count": 76
        }
      ],
      "source": [
        "\n",
        "Z = np.random.uniform(-1.0,1.0,100)\n",
        "np.negative(Z, out=Z)"
      ]
    },
    {
      "cell_type": "markdown",
      "metadata": {
        "id": "KSFdsmAtuEnI"
      },
      "source": [
        "#### 78. Consider 2 sets of points P0,P1 describing lines (2d) and a point p, how to compute distance from p to each line i  (P0\\[i\\],P1\\[i\\])? (★★★)"
      ]
    },
    {
      "cell_type": "code",
      "execution_count": 77,
      "metadata": {
        "id": "t1GKSWmeuEnI",
        "colab": {
          "base_uri": "https://localhost:8080/"
        },
        "outputId": "f26df430-a8ef-45db-e02f-8db4cc664067"
      },
      "outputs": [
        {
          "output_type": "stream",
          "name": "stdout",
          "text": [
            "[ 2.53548128  2.81388583  5.1345329  10.95735206  1.11765047  0.73180095\n",
            "  5.80590692  6.59580559  5.25112571  2.98113265]\n"
          ]
        }
      ],
      "source": [
        "def distance(P0, P1, p):\n",
        "    T = P1 - P0\n",
        "    L = (T**2).sum(axis=1)\n",
        "    U = -((P0[:,0]-p[...,0])*T[:,0] + (P0[:,1]-p[...,1])*T[:,1]) / L\n",
        "    U = U.reshape(len(U),1)\n",
        "    D = P0 + U*T - p\n",
        "    return np.sqrt((D**2).sum(axis=1))\n",
        "\n",
        "P0 = np.random.uniform(-10,10,(10,2))\n",
        "P1 = np.random.uniform(-10,10,(10,2))\n",
        "p  = np.random.uniform(-10,10,( 1,2))\n",
        "print(distance(P0, P1, p))"
      ]
    },
    {
      "cell_type": "markdown",
      "metadata": {
        "id": "Q99t949kuEnI"
      },
      "source": [
        "#### 79. Consider 2 sets of points P0,P1 describing lines (2d) and a set of points P, how to compute distance from each point j (P\\[j\\]) to each line i (P0\\[i\\],P1\\[i\\])? (★★★)"
      ]
    },
    {
      "cell_type": "code",
      "execution_count": 78,
      "metadata": {
        "id": "4cr-FP5quEnI",
        "colab": {
          "base_uri": "https://localhost:8080/"
        },
        "outputId": "ef43ddbd-4ce8-49be-f789-5ac0b6ec90a1"
      },
      "outputs": [
        {
          "output_type": "stream",
          "name": "stdout",
          "text": [
            "[[ 7.91920895  1.68143812  5.14076787  2.75086686  3.27305525  4.43486268\n",
            "   1.65250647  1.02481308  1.62999894  7.64484053]\n",
            " [ 2.35078056  8.51825582  4.05519144  7.59252064  5.24860225  0.45717423\n",
            "  11.65600965  6.46096527  8.25928292  7.44010094]\n",
            " [ 0.86018195  9.36750947  5.21530321  7.94746706  6.73896567  1.54883596\n",
            "  11.78398184  5.87703962  9.24172529  8.83921407]\n",
            " [12.54676559  1.43601469  6.7483018   0.15462848  2.8269019   2.2579961\n",
            "   5.16173274  4.75261469  2.12941707  1.07380461]\n",
            " [ 2.46843785  1.79211392  3.12382218  5.58002373 10.36696325 12.11381757\n",
            "   2.2391555   7.58457811  0.8838432  15.24693009]\n",
            " [ 5.20726396  0.885239    3.54827225  3.06610384  6.36738352  7.27952847\n",
            "   0.87017856  3.11744662  0.50537334 10.76918211]\n",
            " [15.26675832  5.03664869 10.28429841  3.43415136  4.49810098  1.89884863\n",
            "   2.14811257  2.99668102  5.73727597  0.10596534]\n",
            " [11.62916688  2.89073248  3.40216241  4.94521128  3.85388339  5.94677747\n",
            "  10.39685414  9.62621013  1.84194937  1.00506168]\n",
            " [ 1.79839639  5.51526835  2.18956015  3.46668958  7.49678151  4.66508725\n",
            "   7.2062152   1.68045074  5.68711466 10.52289695]\n",
            " [19.08698689  8.87462349 14.40708971  6.47583942  7.46846362  2.7920008\n",
            "   0.43198006  2.20759356  9.72556922  2.19564046]]\n"
          ]
        }
      ],
      "source": [
        "P0 = np.random.uniform(-10, 10, (10,2))\n",
        "P1 = np.random.uniform(-10,10,(10,2))\n",
        "p = np.random.uniform(-10, 10, (10,2))\n",
        "print(np.array([distance(P0,P1,p_i) for p_i in p]))"
      ]
    },
    {
      "cell_type": "markdown",
      "metadata": {
        "id": "XWKvwKLZuEnI"
      },
      "source": [
        "#### 80. Consider an arbitrary array, write a function that extract a subpart with a fixed shape and centered on a given element (pad with a `fill` value when necessary) (★★★) \n",
        "(**hint**: minimum, maximum)"
      ]
    },
    {
      "cell_type": "code",
      "execution_count": 79,
      "metadata": {
        "id": "TRmXZJBmuEnJ",
        "colab": {
          "base_uri": "https://localhost:8080/"
        },
        "outputId": "98ddb4a9-9c2f-4fa9-f623-0a5781711994"
      },
      "outputs": [
        {
          "output_type": "stream",
          "name": "stdout",
          "text": [
            "[[9 6 3 8 5 5 1 7 1 2]\n",
            " [5 9 1 3 3 0 1 8 9 5]\n",
            " [9 9 0 1 6 7 8 4 8 1]\n",
            " [8 8 4 8 1 1 2 2 6 7]\n",
            " [0 5 1 7 2 5 7 1 7 4]\n",
            " [2 4 9 9 3 0 1 4 8 1]\n",
            " [4 0 2 7 1 8 7 6 3 4]\n",
            " [6 7 8 8 5 0 6 5 7 7]\n",
            " [9 7 3 3 7 7 4 3 2 3]\n",
            " [7 4 8 9 1 4 9 0 0 6]]\n",
            "[[0 0 0 0 0]\n",
            " [0 9 6 3 8]\n",
            " [0 5 9 1 3]\n",
            " [0 9 9 0 1]\n",
            " [0 8 8 4 8]]\n"
          ]
        },
        {
          "output_type": "stream",
          "name": "stderr",
          "text": [
            "/usr/local/lib/python3.7/dist-packages/ipykernel_launcher.py:23: FutureWarning: Using a non-tuple sequence for multidimensional indexing is deprecated; use `arr[tuple(seq)]` instead of `arr[seq]`. In the future this will be interpreted as an array index, `arr[np.array(seq)]`, which will result either in an error or a different result.\n"
          ]
        }
      ],
      "source": [
        "Z = np.random.randint(0,10,(10,10))\n",
        "shape = (5,5)\n",
        "fill  = 0\n",
        "position = (1,1)\n",
        "\n",
        "R = np.ones(shape, dtype=Z.dtype)*fill\n",
        "P  = np.array(list(position)).astype(int)\n",
        "Rs = np.array(list(R.shape)).astype(int)\n",
        "Zs = np.array(list(Z.shape)).astype(int)\n",
        "\n",
        "R_start = np.zeros((len(shape),)).astype(int)\n",
        "R_stop  = np.array(list(shape)).astype(int)\n",
        "Z_start = (P-Rs//2)\n",
        "Z_stop  = (P+Rs//2)+Rs%2\n",
        "\n",
        "R_start = (R_start - np.minimum(Z_start,0)).tolist()\n",
        "Z_start = (np.maximum(Z_start,0)).tolist()\n",
        "R_stop = np.maximum(R_start, (R_stop - np.maximum(Z_stop-Zs,0))).tolist()\n",
        "Z_stop = (np.minimum(Z_stop,Zs)).tolist()\n",
        "\n",
        "r = [slice(start,stop) for start,stop in zip(R_start,R_stop)]\n",
        "z = [slice(start,stop) for start,stop in zip(Z_start,Z_stop)]\n",
        "R[r] = Z[z]\n",
        "print(Z)\n",
        "print(R)"
      ]
    },
    {
      "cell_type": "markdown",
      "metadata": {
        "id": "XzT4cBK2uEnJ"
      },
      "source": [
        "#### 81. Consider an array Z = \\[1,2,3,4,5,6,7,8,9,10,11,12,13,14\\], how to generate an array R = \\[\\[1,2,3,4\\], \\[2,3,4,5\\], \\[3,4,5,6\\], ..., \\[11,12,13,14\\]\\]? (★★★) \n",
        "(**hint**: stride\\_tricks.as\\_strided)"
      ]
    },
    {
      "cell_type": "code",
      "execution_count": 80,
      "metadata": {
        "id": "Uqlwya8uuEnJ",
        "colab": {
          "base_uri": "https://localhost:8080/"
        },
        "outputId": "2bab1bcd-1a44-42b9-93f7-25a198c2da00"
      },
      "outputs": [
        {
          "output_type": "stream",
          "name": "stdout",
          "text": [
            "[[ 1  2  3  4]\n",
            " [ 2  3  4  5]\n",
            " [ 3  4  5  6]\n",
            " [ 4  5  6  7]\n",
            " [ 5  6  7  8]\n",
            " [ 6  7  8  9]\n",
            " [ 7  8  9 10]\n",
            " [ 8  9 10 11]\n",
            " [ 9 10 11 12]\n",
            " [10 11 12 13]\n",
            " [11 12 13 14]]\n"
          ]
        }
      ],
      "source": [
        "Z = np.arange(1,15,dtype=np.uint32)\n",
        "R = stride_tricks.as_strided(Z,(11,4),(4,4))\n",
        "print(R)\n"
      ]
    },
    {
      "cell_type": "markdown",
      "metadata": {
        "id": "uGMU8KDruEnJ"
      },
      "source": [
        "#### 82. Compute a matrix rank (★★★) \n",
        "(**hint**: np.linalg.svd) (suggestion: np.linalg.svd)"
      ]
    },
    {
      "cell_type": "code",
      "execution_count": 81,
      "metadata": {
        "id": "64jtb9cxuEnJ",
        "colab": {
          "base_uri": "https://localhost:8080/"
        },
        "outputId": "b7284ddd-97ec-4d86-a469-113b2c674598"
      },
      "outputs": [
        {
          "output_type": "stream",
          "name": "stdout",
          "text": [
            "10\n"
          ]
        }
      ],
      "source": [
        "Z = np.random.uniform(0,1,(10,10))\n",
        "\n",
        "rank = np.linalg.matrix_rank(Z)\n",
        "print(rank)"
      ]
    },
    {
      "cell_type": "markdown",
      "metadata": {
        "id": "QBG8xWjWuEnJ"
      },
      "source": [
        "#### 83. How to find the most frequent value in an array? \n",
        "(**hint**: np.bincount, argmax)"
      ]
    },
    {
      "cell_type": "code",
      "execution_count": 82,
      "metadata": {
        "id": "oKqprWpmuEnK",
        "colab": {
          "base_uri": "https://localhost:8080/"
        },
        "outputId": "5b0ed9f5-2c39-41ab-8bcc-332c487ca695"
      },
      "outputs": [
        {
          "output_type": "stream",
          "name": "stdout",
          "text": [
            "0\n"
          ]
        }
      ],
      "source": [
        "Z = np.random.randint(0,10,50)\n",
        "print(np.bincount(Z).argmax())"
      ]
    },
    {
      "cell_type": "markdown",
      "metadata": {
        "id": "r-yMODAduEnK"
      },
      "source": [
        "#### 84. Extract all the contiguous 3x3 blocks from a random 10x10 matrix (★★★) \n",
        "(**hint**: stride\\_tricks.as\\_strided)"
      ]
    },
    {
      "cell_type": "code",
      "execution_count": 83,
      "metadata": {
        "id": "KKKnv91XuEnK",
        "colab": {
          "base_uri": "https://localhost:8080/"
        },
        "outputId": "1969a46f-d0b8-44dc-dee9-54d5e9fa771e"
      },
      "outputs": [
        {
          "output_type": "stream",
          "name": "stdout",
          "text": [
            "[[[[2 1 0]\n",
            "   [1 0 4]\n",
            "   [2 0 0]]\n",
            "\n",
            "  [[1 0 1]\n",
            "   [0 4 0]\n",
            "   [0 0 1]]\n",
            "\n",
            "  [[0 1 0]\n",
            "   [4 0 2]\n",
            "   [0 1 2]]\n",
            "\n",
            "  [[1 0 1]\n",
            "   [0 2 4]\n",
            "   [1 2 1]]\n",
            "\n",
            "  [[0 1 0]\n",
            "   [2 4 3]\n",
            "   [2 1 1]]\n",
            "\n",
            "  [[1 0 2]\n",
            "   [4 3 1]\n",
            "   [1 1 2]]\n",
            "\n",
            "  [[0 2 1]\n",
            "   [3 1 1]\n",
            "   [1 2 4]]\n",
            "\n",
            "  [[2 1 1]\n",
            "   [1 1 1]\n",
            "   [2 4 1]]]\n",
            "\n",
            "\n",
            " [[[1 0 4]\n",
            "   [2 0 0]\n",
            "   [4 1 3]]\n",
            "\n",
            "  [[0 4 0]\n",
            "   [0 0 1]\n",
            "   [1 3 2]]\n",
            "\n",
            "  [[4 0 2]\n",
            "   [0 1 2]\n",
            "   [3 2 4]]\n",
            "\n",
            "  [[0 2 4]\n",
            "   [1 2 1]\n",
            "   [2 4 3]]\n",
            "\n",
            "  [[2 4 3]\n",
            "   [2 1 1]\n",
            "   [4 3 1]]\n",
            "\n",
            "  [[4 3 1]\n",
            "   [1 1 2]\n",
            "   [3 1 2]]\n",
            "\n",
            "  [[3 1 1]\n",
            "   [1 2 4]\n",
            "   [1 2 2]]\n",
            "\n",
            "  [[1 1 1]\n",
            "   [2 4 1]\n",
            "   [2 2 0]]]\n",
            "\n",
            "\n",
            " [[[2 0 0]\n",
            "   [4 1 3]\n",
            "   [2 1 3]]\n",
            "\n",
            "  [[0 0 1]\n",
            "   [1 3 2]\n",
            "   [1 3 0]]\n",
            "\n",
            "  [[0 1 2]\n",
            "   [3 2 4]\n",
            "   [3 0 4]]\n",
            "\n",
            "  [[1 2 1]\n",
            "   [2 4 3]\n",
            "   [0 4 1]]\n",
            "\n",
            "  [[2 1 1]\n",
            "   [4 3 1]\n",
            "   [4 1 3]]\n",
            "\n",
            "  [[1 1 2]\n",
            "   [3 1 2]\n",
            "   [1 3 0]]\n",
            "\n",
            "  [[1 2 4]\n",
            "   [1 2 2]\n",
            "   [3 0 0]]\n",
            "\n",
            "  [[2 4 1]\n",
            "   [2 2 0]\n",
            "   [0 0 0]]]\n",
            "\n",
            "\n",
            " [[[4 1 3]\n",
            "   [2 1 3]\n",
            "   [0 1 1]]\n",
            "\n",
            "  [[1 3 2]\n",
            "   [1 3 0]\n",
            "   [1 1 3]]\n",
            "\n",
            "  [[3 2 4]\n",
            "   [3 0 4]\n",
            "   [1 3 4]]\n",
            "\n",
            "  [[2 4 3]\n",
            "   [0 4 1]\n",
            "   [3 4 4]]\n",
            "\n",
            "  [[4 3 1]\n",
            "   [4 1 3]\n",
            "   [4 4 3]]\n",
            "\n",
            "  [[3 1 2]\n",
            "   [1 3 0]\n",
            "   [4 3 4]]\n",
            "\n",
            "  [[1 2 2]\n",
            "   [3 0 0]\n",
            "   [3 4 3]]\n",
            "\n",
            "  [[2 2 0]\n",
            "   [0 0 0]\n",
            "   [4 3 3]]]\n",
            "\n",
            "\n",
            " [[[2 1 3]\n",
            "   [0 1 1]\n",
            "   [1 3 2]]\n",
            "\n",
            "  [[1 3 0]\n",
            "   [1 1 3]\n",
            "   [3 2 4]]\n",
            "\n",
            "  [[3 0 4]\n",
            "   [1 3 4]\n",
            "   [2 4 2]]\n",
            "\n",
            "  [[0 4 1]\n",
            "   [3 4 4]\n",
            "   [4 2 1]]\n",
            "\n",
            "  [[4 1 3]\n",
            "   [4 4 3]\n",
            "   [2 1 2]]\n",
            "\n",
            "  [[1 3 0]\n",
            "   [4 3 4]\n",
            "   [1 2 1]]\n",
            "\n",
            "  [[3 0 0]\n",
            "   [3 4 3]\n",
            "   [2 1 0]]\n",
            "\n",
            "  [[0 0 0]\n",
            "   [4 3 3]\n",
            "   [1 0 1]]]\n",
            "\n",
            "\n",
            " [[[0 1 1]\n",
            "   [1 3 2]\n",
            "   [3 3 2]]\n",
            "\n",
            "  [[1 1 3]\n",
            "   [3 2 4]\n",
            "   [3 2 0]]\n",
            "\n",
            "  [[1 3 4]\n",
            "   [2 4 2]\n",
            "   [2 0 0]]\n",
            "\n",
            "  [[3 4 4]\n",
            "   [4 2 1]\n",
            "   [0 0 4]]\n",
            "\n",
            "  [[4 4 3]\n",
            "   [2 1 2]\n",
            "   [0 4 4]]\n",
            "\n",
            "  [[4 3 4]\n",
            "   [1 2 1]\n",
            "   [4 4 2]]\n",
            "\n",
            "  [[3 4 3]\n",
            "   [2 1 0]\n",
            "   [4 2 0]]\n",
            "\n",
            "  [[4 3 3]\n",
            "   [1 0 1]\n",
            "   [2 0 0]]]\n",
            "\n",
            "\n",
            " [[[1 3 2]\n",
            "   [3 3 2]\n",
            "   [0 4 3]]\n",
            "\n",
            "  [[3 2 4]\n",
            "   [3 2 0]\n",
            "   [4 3 2]]\n",
            "\n",
            "  [[2 4 2]\n",
            "   [2 0 0]\n",
            "   [3 2 0]]\n",
            "\n",
            "  [[4 2 1]\n",
            "   [0 0 4]\n",
            "   [2 0 2]]\n",
            "\n",
            "  [[2 1 2]\n",
            "   [0 4 4]\n",
            "   [0 2 1]]\n",
            "\n",
            "  [[1 2 1]\n",
            "   [4 4 2]\n",
            "   [2 1 1]]\n",
            "\n",
            "  [[2 1 0]\n",
            "   [4 2 0]\n",
            "   [1 1 2]]\n",
            "\n",
            "  [[1 0 1]\n",
            "   [2 0 0]\n",
            "   [1 2 2]]]\n",
            "\n",
            "\n",
            " [[[3 3 2]\n",
            "   [0 4 3]\n",
            "   [1 1 1]]\n",
            "\n",
            "  [[3 2 0]\n",
            "   [4 3 2]\n",
            "   [1 1 3]]\n",
            "\n",
            "  [[2 0 0]\n",
            "   [3 2 0]\n",
            "   [1 3 0]]\n",
            "\n",
            "  [[0 0 4]\n",
            "   [2 0 2]\n",
            "   [3 0 0]]\n",
            "\n",
            "  [[0 4 4]\n",
            "   [0 2 1]\n",
            "   [0 0 1]]\n",
            "\n",
            "  [[4 4 2]\n",
            "   [2 1 1]\n",
            "   [0 1 3]]\n",
            "\n",
            "  [[4 2 0]\n",
            "   [1 1 2]\n",
            "   [1 3 0]]\n",
            "\n",
            "  [[2 0 0]\n",
            "   [1 2 2]\n",
            "   [3 0 3]]]]\n"
          ]
        }
      ],
      "source": [
        "Z = np.random.randint(0,5,(10,10))\n",
        "n = 3\n",
        "i = 1 + (Z.shape[0]-3)\n",
        "j = 1 + (Z.shape[1]-3)\n",
        "C = stride_tricks.as_strided(Z, shape=(i, j, n, n), strides=Z.strides + Z.strides)\n",
        "print(C)"
      ]
    },
    {
      "cell_type": "markdown",
      "metadata": {
        "id": "DJl0okpOuEnK"
      },
      "source": [
        "#### 85. Create a 2D array subclass such that Z\\[i,j\\] == Z\\[j,i\\] (★★★) \n",
        "(**hint**: class method)"
      ]
    },
    {
      "cell_type": "code",
      "execution_count": 84,
      "metadata": {
        "id": "pasIXqGJuEnK",
        "colab": {
          "base_uri": "https://localhost:8080/"
        },
        "outputId": "58a463de-fa50-49a5-aa89-7f5c83c0b981"
      },
      "outputs": [
        {
          "output_type": "stream",
          "name": "stdout",
          "text": [
            "[[ 8 10 10  7  9]\n",
            " [10  7  7  0 16]\n",
            " [10  7  8 42  8]\n",
            " [ 7  0 42  8  1]\n",
            " [ 9 16  8  1  4]]\n"
          ]
        }
      ],
      "source": [
        "class Symetric(np.ndarray):\n",
        "    def __setitem__(self, index, value):\n",
        "        i,j = index\n",
        "        super(Symetric, self).__setitem__((i,j), value)\n",
        "        super(Symetric, self).__setitem__((j,i), value)\n",
        "\n",
        "def symetric(Z):\n",
        "    return np.asarray(Z + Z.T - np.diag(Z.diagonal())).view(Symetric)\n",
        "\n",
        "S = symetric(np.random.randint(0,10,(5,5)))\n",
        "S[2,3] = 42\n",
        "print(S)"
      ]
    },
    {
      "cell_type": "markdown",
      "metadata": {
        "id": "e6tiWSbDuEnK"
      },
      "source": [
        "#### 86. Consider a set of p matrices wich shape (n,n) and a set of p vectors with shape (n,1). How to compute the sum of of the p matrix products at once? (result has shape (n,1)) (★★★) \n",
        "(**hint**: np.tensordot)"
      ]
    },
    {
      "cell_type": "code",
      "execution_count": 85,
      "metadata": {
        "id": "NbWuFZDZuEnK",
        "colab": {
          "base_uri": "https://localhost:8080/"
        },
        "outputId": "72850202-470a-405e-cfa3-5436cdf04863"
      },
      "outputs": [
        {
          "output_type": "stream",
          "name": "stdout",
          "text": [
            "[[200.]\n",
            " [200.]\n",
            " [200.]\n",
            " [200.]\n",
            " [200.]\n",
            " [200.]\n",
            " [200.]\n",
            " [200.]\n",
            " [200.]\n",
            " [200.]\n",
            " [200.]\n",
            " [200.]\n",
            " [200.]\n",
            " [200.]\n",
            " [200.]\n",
            " [200.]\n",
            " [200.]\n",
            " [200.]\n",
            " [200.]\n",
            " [200.]]\n"
          ]
        }
      ],
      "source": [
        "p, n = 10, 20\n",
        "M = np.ones((p,n,n))\n",
        "V = np.ones((p,n,1))\n",
        "S = np.tensordot(M, V, axes=[[0, 2], [0, 1]])\n",
        "print(S)"
      ]
    },
    {
      "cell_type": "markdown",
      "metadata": {
        "id": "VvVcKR-AuEnK"
      },
      "source": [
        "#### 87. Consider a 16x16 array, how to get the block-sum (block size is 4x4)? (★★★) \n",
        "(**hint**: np.add.reduceat)"
      ]
    },
    {
      "cell_type": "code",
      "execution_count": 86,
      "metadata": {
        "id": "rknzq6z7uEnL",
        "colab": {
          "base_uri": "https://localhost:8080/"
        },
        "outputId": "0b9c7ae7-d200-4e7b-cd7b-d6d67270b0a1"
      },
      "outputs": [
        {
          "output_type": "stream",
          "name": "stdout",
          "text": [
            "[[16. 16. 16. 16.]\n",
            " [16. 16. 16. 16.]\n",
            " [16. 16. 16. 16.]\n",
            " [16. 16. 16. 16.]]\n"
          ]
        }
      ],
      "source": [
        "Z = np.ones((16,16))\n",
        "k = 4\n",
        "S = np.add.reduceat(np.add.reduceat(Z, np.arange(0, Z.shape[0], k), axis=0),\n",
        "                                       np.arange(0, Z.shape[1], k), axis=1)\n",
        "print(S)"
      ]
    },
    {
      "cell_type": "markdown",
      "metadata": {
        "id": "3BmqdblruEnL"
      },
      "source": [
        "#### 88. How to implement the Game of Life using numpy arrays? (★★★)"
      ]
    },
    {
      "cell_type": "code",
      "execution_count": 87,
      "metadata": {
        "id": "sbIHo2yxuEnL",
        "colab": {
          "base_uri": "https://localhost:8080/"
        },
        "outputId": "47abc5e1-7a37-4a9a-e1b4-3d9919ba3be0"
      },
      "outputs": [
        {
          "output_type": "stream",
          "name": "stdout",
          "text": [
            "[[0 0 0 0 0 0 0 0 0 0 0 0 0 0 0 0 0 0 0 0 0 0 0 0 0 0 0 0 0 0 0 0 0 0 0 0\n",
            "  0 0 0 0 0 0 0 0 0 0 0 0 0 0]\n",
            " [0 0 0 0 0 0 0 0 0 0 0 0 0 0 0 0 1 1 0 0 0 0 0 0 0 0 0 0 0 0 0 0 0 0 0 0\n",
            "  0 0 0 0 0 0 0 0 0 0 0 0 0 0]\n",
            " [0 0 0 0 0 0 0 0 0 0 0 0 0 0 0 0 1 1 0 0 0 0 0 0 0 1 1 0 0 0 0 0 0 0 0 0\n",
            "  0 0 0 0 0 0 0 0 0 0 0 0 0 0]\n",
            " [0 0 0 0 0 0 0 0 0 0 0 0 0 0 0 0 0 0 0 0 0 0 0 0 0 1 1 0 0 0 0 0 0 0 0 0\n",
            "  0 0 0 0 0 0 0 0 0 0 0 0 0 0]\n",
            " [0 0 0 0 0 0 0 0 0 0 0 0 0 0 0 0 0 0 0 0 0 0 0 1 1 0 1 0 0 0 0 0 0 0 0 0\n",
            "  0 0 0 0 0 0 0 0 0 0 0 0 0 0]\n",
            " [0 0 0 0 0 0 0 0 0 0 0 0 0 0 0 0 0 0 0 0 0 0 1 0 1 1 0 0 0 0 0 0 0 0 0 0\n",
            "  0 0 0 0 0 0 0 0 0 0 0 0 0 0]\n",
            " [0 0 0 0 0 0 0 0 0 0 0 0 0 0 0 0 0 0 0 0 0 0 1 0 1 0 0 0 0 0 0 0 0 0 0 0\n",
            "  0 0 0 0 0 0 0 0 0 0 0 0 0 0]\n",
            " [0 0 0 0 0 0 0 0 0 0 0 0 0 0 0 0 0 0 0 0 0 0 0 1 0 0 0 0 0 0 0 0 0 0 0 0\n",
            "  0 0 0 0 0 0 0 0 0 0 0 0 0 0]\n",
            " [0 0 0 1 1 0 0 0 0 0 0 0 0 0 0 0 0 0 0 0 0 0 0 0 0 0 1 0 0 0 0 0 0 1 1 1\n",
            "  0 0 0 0 0 0 0 0 0 0 0 0 0 0]\n",
            " [0 0 0 1 1 0 0 0 0 0 0 0 0 0 0 0 0 0 0 0 0 0 0 0 0 0 1 0 0 0 0 0 0 0 0 1\n",
            "  1 0 1 1 0 1 0 0 0 0 0 0 0 0]\n",
            " [0 0 0 0 0 0 0 0 0 0 0 0 0 0 0 0 0 0 0 0 0 0 0 0 0 0 0 0 0 0 1 0 0 0 0 0\n",
            "  1 0 1 0 0 1 0 0 0 0 0 0 0 0]\n",
            " [0 0 0 0 0 0 0 0 0 0 0 0 0 0 0 0 0 0 0 0 0 0 0 0 0 0 1 0 0 0 0 0 0 0 0 1\n",
            "  0 1 1 1 0 1 1 0 0 0 0 0 0 0]\n",
            " [0 0 0 0 0 0 0 0 0 0 0 0 0 0 0 0 0 0 0 0 0 0 0 0 0 1 1 0 0 0 0 1 1 0 0 1\n",
            "  1 0 0 0 0 0 0 0 0 0 0 0 0 0]\n",
            " [0 0 0 0 0 0 0 0 0 0 0 0 0 0 0 0 0 0 0 0 0 0 0 0 0 1 1 0 0 1 1 0 0 0 1 1\n",
            "  1 0 0 0 0 1 1 0 0 0 0 0 0 0]\n",
            " [0 0 0 0 0 0 0 0 0 0 0 0 0 0 0 0 0 0 0 0 0 0 0 0 1 0 0 1 1 1 0 0 0 0 0 0\n",
            "  0 1 1 1 0 0 0 0 0 0 0 0 0 0]\n",
            " [0 0 0 0 0 0 0 0 0 0 0 0 0 0 0 0 0 0 0 0 0 0 0 0 0 0 0 1 1 0 0 0 0 0 0 0\n",
            "  0 0 1 1 0 0 0 0 0 0 0 0 0 0]\n",
            " [0 0 0 0 0 0 0 0 0 0 0 0 0 0 0 0 0 0 0 0 0 0 0 0 0 0 0 1 1 0 0 0 0 0 0 0\n",
            "  0 0 0 0 0 0 0 0 0 0 0 0 0 0]\n",
            " [0 0 0 0 0 0 0 0 0 0 0 0 0 0 0 0 0 0 0 0 0 0 0 0 0 0 0 0 0 0 0 0 0 0 0 0\n",
            "  0 0 0 0 0 0 0 0 0 0 0 0 0 0]\n",
            " [0 0 0 0 0 0 0 0 0 0 0 0 0 0 0 0 0 0 0 0 0 0 0 0 0 0 0 0 0 0 0 0 0 0 0 0\n",
            "  0 0 0 0 1 0 1 0 0 0 0 0 0 0]\n",
            " [0 0 0 0 0 0 0 0 0 0 0 0 0 0 0 0 0 0 0 0 0 0 0 0 0 0 0 0 0 0 0 0 0 0 0 0\n",
            "  0 0 1 1 1 0 0 1 1 0 0 0 0 0]\n",
            " [0 0 0 0 0 0 0 0 0 0 0 0 0 0 0 0 0 0 0 0 1 0 0 0 0 0 0 0 0 0 0 0 0 0 0 0\n",
            "  0 0 1 1 1 0 0 1 1 0 0 0 0 0]\n",
            " [0 0 0 0 0 0 0 0 0 0 0 0 0 0 0 0 0 0 0 1 0 1 0 0 0 0 0 0 0 0 0 0 0 0 0 0\n",
            "  0 0 1 1 0 0 0 0 0 0 0 0 0 0]\n",
            " [0 0 0 0 0 0 0 0 0 0 0 0 0 0 0 0 0 0 0 1 0 1 0 0 0 0 0 0 0 0 0 0 0 0 0 0\n",
            "  0 0 0 0 0 0 0 0 0 0 0 0 0 0]\n",
            " [0 0 0 0 0 0 0 0 0 0 0 0 0 0 0 0 0 0 0 0 1 0 0 0 0 0 0 0 0 0 0 0 0 0 1 1\n",
            "  1 0 0 0 0 0 0 0 0 0 0 1 1 0]\n",
            " [0 0 0 0 0 0 0 0 0 0 0 0 0 0 0 0 0 0 0 0 0 0 0 0 0 0 0 0 0 0 0 0 0 1 1 0\n",
            "  1 0 0 0 0 0 0 0 0 0 0 1 1 0]\n",
            " [0 0 0 0 0 0 0 0 0 0 0 0 0 0 0 0 0 0 0 0 0 0 0 0 0 1 1 0 0 0 0 0 0 0 0 0\n",
            "  1 0 0 0 0 0 0 0 1 0 0 0 0 0]\n",
            " [0 0 0 0 0 0 0 0 0 0 0 0 0 0 0 0 0 0 0 0 0 0 0 0 0 1 1 1 0 0 0 0 0 1 0 0\n",
            "  1 0 0 0 0 0 0 0 1 1 0 0 0 0]\n",
            " [0 1 1 0 0 0 0 0 0 0 0 0 0 0 1 1 1 0 0 0 0 0 0 0 1 0 0 1 0 0 0 0 0 1 0 1\n",
            "  0 0 0 0 0 0 0 1 0 1 0 0 0 0]\n",
            " [0 1 1 0 0 0 0 0 0 0 0 0 0 0 1 1 1 0 0 0 0 0 0 0 0 1 1 0 0 0 0 0 0 1 0 0\n",
            "  1 0 0 0 0 0 0 0 0 0 0 0 0 0]\n",
            " [0 0 0 0 0 0 0 0 0 0 0 0 0 1 0 0 0 1 0 0 0 0 0 0 0 0 0 0 1 1 0 1 0 0 1 1\n",
            "  1 0 0 0 0 0 0 0 0 0 0 0 0 0]\n",
            " [0 0 0 0 0 0 0 0 0 0 0 0 1 1 0 0 0 1 1 1 0 0 0 0 0 0 0 0 1 0 0 0 1 1 1 0\n",
            "  0 0 0 0 0 0 0 0 0 0 0 0 0 0]\n",
            " [0 0 0 0 0 0 0 0 0 0 0 0 0 1 0 0 0 0 1 1 0 0 0 0 1 1 0 1 1 0 0 1 0 0 0 1\n",
            "  0 0 0 0 0 0 0 0 0 0 0 0 0 0]\n",
            " [0 0 0 0 0 0 0 0 0 0 0 0 1 1 0 0 1 0 1 1 0 0 0 0 1 1 0 0 0 0 0 0 0 0 0 1\n",
            "  0 0 0 0 0 0 0 0 0 0 0 0 0 0]\n",
            " [0 0 0 0 0 0 0 0 0 0 0 0 0 0 0 0 0 1 0 0 0 1 0 1 1 0 0 0 0 0 0 0 0 0 0 0\n",
            "  0 0 0 0 0 0 0 0 0 0 0 0 0 0]\n",
            " [0 0 0 0 0 0 0 0 0 0 0 1 0 0 0 0 0 1 0 0 1 1 1 1 0 0 0 0 0 0 0 0 0 0 0 1\n",
            "  1 0 0 0 0 0 0 0 0 0 0 0 0 0]\n",
            " [0 0 0 0 0 0 1 1 1 0 1 0 0 0 0 1 1 0 0 0 1 0 0 0 1 0 0 0 0 0 0 0 0 0 0 1\n",
            "  1 1 1 0 0 0 0 0 0 0 0 0 0 0]\n",
            " [0 0 0 0 0 0 1 1 1 0 0 0 0 1 0 0 0 0 0 0 0 0 0 0 1 0 1 0 0 0 0 0 0 0 0 1\n",
            "  0 0 1 0 0 0 0 0 0 0 0 0 0 0]\n",
            " [0 0 0 0 0 1 0 0 0 0 0 0 0 0 0 0 0 0 0 0 0 0 0 0 1 0 1 0 0 0 0 0 0 0 0 0\n",
            "  0 0 0 0 0 0 0 0 0 0 0 0 0 0]\n",
            " [0 0 0 0 0 1 1 1 0 0 0 0 0 0 0 0 0 0 0 0 0 0 0 0 0 0 0 0 0 0 0 0 0 0 0 1\n",
            "  0 1 0 0 0 0 0 0 0 0 0 0 0 0]\n",
            " [0 0 0 0 0 1 0 0 0 0 1 0 0 0 0 0 0 0 0 0 0 0 0 0 0 0 0 0 0 0 0 0 0 0 0 1\n",
            "  0 1 0 0 0 0 0 0 0 0 0 0 0 0]\n",
            " [0 0 0 0 0 0 1 1 1 1 0 0 0 0 0 0 0 0 0 0 0 0 0 0 0 0 0 0 0 0 0 0 0 0 0 1\n",
            "  1 1 1 1 0 0 0 0 0 0 0 0 0 0]\n",
            " [0 0 0 0 0 0 0 1 0 0 0 0 0 0 0 0 0 0 0 0 0 0 0 0 0 0 0 0 0 0 0 0 0 0 0 1\n",
            "  1 0 1 1 0 0 0 0 0 0 0 0 0 0]\n",
            " [0 0 0 0 0 0 0 0 0 0 0 0 0 0 0 0 0 0 0 0 0 0 0 0 0 0 0 0 0 0 0 0 0 0 1 0\n",
            "  0 0 1 1 0 0 0 0 0 0 0 0 0 0]\n",
            " [0 0 0 0 0 0 0 0 0 0 0 0 0 0 0 0 0 0 0 0 0 0 0 0 0 0 0 0 0 0 0 0 0 0 0 0\n",
            "  0 0 0 0 0 0 0 0 0 0 0 0 0 0]\n",
            " [0 0 0 0 0 0 0 0 0 0 0 0 0 0 0 0 0 0 0 0 0 0 0 0 0 0 0 0 0 0 0 0 0 1 0 1\n",
            "  1 0 0 0 0 0 0 0 0 0 0 0 0 0]\n",
            " [0 0 0 0 0 0 0 0 0 0 0 0 0 0 0 0 0 0 0 0 0 0 0 0 0 0 0 0 0 0 0 0 1 1 0 1\n",
            "  1 0 0 0 0 0 0 0 0 0 0 0 0 0]\n",
            " [0 0 0 0 0 0 0 0 0 0 0 0 0 0 0 0 0 0 0 0 0 0 0 0 0 0 0 0 0 0 0 0 0 1 1 0\n",
            "  0 0 0 0 0 0 0 0 0 0 0 0 0 0]\n",
            " [0 0 0 0 0 0 0 0 0 0 0 0 0 0 0 0 0 0 0 0 0 0 0 0 0 0 0 0 0 0 0 0 0 0 1 1\n",
            "  0 1 0 0 0 0 0 0 0 0 0 1 1 0]\n",
            " [0 0 0 0 0 0 0 0 0 0 0 0 0 0 0 0 0 0 0 0 0 0 0 0 0 0 0 0 0 0 0 0 0 0 0 1\n",
            "  1 0 0 0 0 0 0 0 0 0 0 1 1 0]\n",
            " [0 0 0 0 0 0 0 0 0 0 0 0 0 0 0 0 0 0 0 0 0 0 0 0 0 0 0 0 0 0 0 0 0 0 0 0\n",
            "  0 0 0 0 0 0 0 0 0 0 0 0 0 0]]\n"
          ]
        }
      ],
      "source": [
        "def iterate(Z):\n",
        "    \n",
        "    N = (Z[0:-2,0:-2] + Z[0:-2,1:-1] + Z[0:-2,2:] +\n",
        "         Z[1:-1,0:-2]                + Z[1:-1,2:] +\n",
        "         Z[2:  ,0:-2] + Z[2:  ,1:-1] + Z[2:  ,2:])\n",
        "\n",
        "    \n",
        "    birth = (N==3) & (Z[1:-1,1:-1]==0)\n",
        "    survive = ((N==2) | (N==3)) & (Z[1:-1,1:-1]==1)\n",
        "    Z[...] = 0\n",
        "    Z[1:-1,1:-1][birth | survive] = 1\n",
        "    return Z\n",
        "\n",
        "Z = np.random.randint(0,2,(50,50))\n",
        "for i in range(100): \n",
        "  Z = iterate(Z)\n",
        "print(Z)"
      ]
    },
    {
      "cell_type": "markdown",
      "metadata": {
        "id": "feCwFiMauEnL"
      },
      "source": [
        "#### 89. How to get the n largest values of an array (★★★) \n",
        "(**hint**: np.argsort | np.argpartition)"
      ]
    },
    {
      "cell_type": "code",
      "execution_count": 88,
      "metadata": {
        "id": "qF-JplI6uEnQ",
        "colab": {
          "base_uri": "https://localhost:8080/"
        },
        "outputId": "a8216499-ad7e-4ff4-992c-0c347d182bf2"
      },
      "outputs": [
        {
          "output_type": "stream",
          "name": "stdout",
          "text": [
            "[9995 9996 9997 9998 9999]\n"
          ]
        }
      ],
      "source": [
        "Z = np.arange(10000)\n",
        "np.random.shuffle(Z)\n",
        "n = 5\n",
        "\n",
        "\n",
        "print (Z[np.argsort(Z)[-n:]])"
      ]
    },
    {
      "cell_type": "markdown",
      "metadata": {
        "id": "4diM-dLjuEnQ"
      },
      "source": [
        "#### 90. Given an arbitrary number of vectors, build the cartesian product (every combinations of every item) (★★★) \n",
        "(**hint**: np.indices)"
      ]
    },
    {
      "cell_type": "code",
      "execution_count": 89,
      "metadata": {
        "scrolled": true,
        "id": "19ZxrpiPuEnR",
        "colab": {
          "base_uri": "https://localhost:8080/"
        },
        "outputId": "6aecd19a-25e7-419a-ec34-b1344324848a"
      },
      "outputs": [
        {
          "output_type": "stream",
          "name": "stdout",
          "text": [
            "[[1 4 6]\n",
            " [1 4 7]\n",
            " [1 5 6]\n",
            " [1 5 7]\n",
            " [2 4 6]\n",
            " [2 4 7]\n",
            " [2 5 6]\n",
            " [2 5 7]\n",
            " [3 4 6]\n",
            " [3 4 7]\n",
            " [3 5 6]\n",
            " [3 5 7]]\n"
          ]
        }
      ],
      "source": [
        "def cartesian(arrays):\n",
        "    arrays = [np.asarray(a) for a in arrays]\n",
        "    shape = (len(x) for x in arrays)\n",
        "\n",
        "    ix = np.indices(shape, dtype=int)\n",
        "    ix = ix.reshape(len(arrays), -1).T\n",
        "\n",
        "    for n, arr in enumerate(arrays):\n",
        "        ix[:, n] = arrays[n][ix[:, n]]\n",
        "\n",
        "    return ix\n",
        "\n",
        "print (cartesian(([1, 2, 3], [4, 5], [6, 7])))"
      ]
    },
    {
      "cell_type": "markdown",
      "metadata": {
        "id": "TAM-i-dJuEnR"
      },
      "source": [
        "#### 91. How to create a record array from a regular array? (★★★) \n",
        "(**hint**: np.core.records.fromarrays)"
      ]
    },
    {
      "cell_type": "code",
      "execution_count": 90,
      "metadata": {
        "id": "FF1rCptQuEnR",
        "colab": {
          "base_uri": "https://localhost:8080/"
        },
        "outputId": "7902d33b-e1f4-4bae-922d-e44fa809ceb2"
      },
      "outputs": [
        {
          "output_type": "stream",
          "name": "stdout",
          "text": [
            "[(b'Hello', 2.5, 3) (b'World', 3.6, 2)]\n"
          ]
        }
      ],
      "source": [
        "Z = np.array([(\"Hello\", 2.5, 3),\n",
        "              (\"World\", 3.6, 2)])\n",
        "R = np.core.records.fromarrays(Z.T,\n",
        "                               names='col1, col2, col3',\n",
        "                               formats = 'S8, f8, i8')\n",
        "print(R)"
      ]
    },
    {
      "cell_type": "markdown",
      "metadata": {
        "id": "a32khpGVuEnR"
      },
      "source": [
        "#### 92. Consider a large vector Z, compute Z to the power of 3 using 3 different methods (★★★) \n",
        "(**hint**: np.power, \\*, np.einsum)"
      ]
    },
    {
      "cell_type": "code",
      "execution_count": 91,
      "metadata": {
        "id": "QIRzSIuiuEnR",
        "colab": {
          "base_uri": "https://localhost:8080/"
        },
        "outputId": "76db2218-0ef3-496a-9376-9d360e7523c3"
      },
      "outputs": [
        {
          "output_type": "stream",
          "name": "stdout",
          "text": [
            "[(b'Hello', 2.5, 3) (b'World', 3.6, 2)]\n"
          ]
        }
      ],
      "source": [
        "Z = np.array([(\"Hello\", 2.5, 3),\n",
        "              (\"World\", 3.6, 2)])\n",
        "R = np.core.records.fromarrays(Z.T,\n",
        "                               names='col1, col2, col3',\n",
        "                               formats = 'S8, f8, i8')\n",
        "print(R)"
      ]
    },
    {
      "cell_type": "markdown",
      "metadata": {
        "id": "wYLIFSb_uEnR"
      },
      "source": [
        "#### 93. Consider two arrays A and B of shape (8,3) and (2,2). How to find rows of A that contain elements of each row of B regardless of the order of the elements in B? (★★★) \n",
        "(**hint**: np.where)"
      ]
    },
    {
      "cell_type": "code",
      "execution_count": 92,
      "metadata": {
        "id": "3MaE_CFEuEnR",
        "colab": {
          "base_uri": "https://localhost:8080/"
        },
        "outputId": "a5459dd8-8c53-4ac7-efc7-09ab51866c81"
      },
      "outputs": [
        {
          "output_type": "stream",
          "name": "stdout",
          "text": [
            "[0 1 3 4 5 6 7]\n"
          ]
        }
      ],
      "source": [
        "A = np.random.randint(0,5,(8,3))\n",
        "B = np.random.randint(0,5,(2,2))\n",
        "\n",
        "C = (A[..., np.newaxis, np.newaxis] == B)\n",
        "rows = np.where(C.any((3,1)).all(1))[0]\n",
        "print(rows)"
      ]
    },
    {
      "cell_type": "markdown",
      "metadata": {
        "id": "n7BfR79RuEnR"
      },
      "source": [
        "#### 94. Considering a 10x3 matrix, extract rows with unequal values (e.g. \\[2,2,3\\]) (★★★)"
      ]
    },
    {
      "cell_type": "code",
      "execution_count": 93,
      "metadata": {
        "id": "AMk8xpksuEnR",
        "colab": {
          "base_uri": "https://localhost:8080/"
        },
        "outputId": "2e360481-6cdd-4fc3-b945-5599828e744c"
      },
      "outputs": [
        {
          "output_type": "stream",
          "name": "stdout",
          "text": [
            "[[3 0 3]\n",
            " [2 1 4]\n",
            " [4 2 3]\n",
            " [2 3 3]\n",
            " [1 3 1]\n",
            " [2 4 4]\n",
            " [3 2 1]\n",
            " [2 4 1]\n",
            " [3 2 2]\n",
            " [0 1 4]]\n",
            "[[3 0 3]\n",
            " [2 1 4]\n",
            " [4 2 3]\n",
            " [2 3 3]\n",
            " [1 3 1]\n",
            " [2 4 4]\n",
            " [3 2 1]\n",
            " [2 4 1]\n",
            " [3 2 2]\n",
            " [0 1 4]]\n"
          ]
        }
      ],
      "source": [
        "Z = np.random.randint(0,5,(10,3))\n",
        "print(Z)\n",
        "E = np.all(Z[:,1:] == Z[:,:-1], axis=1)\n",
        "U = Z[~E]\n",
        "print(U)"
      ]
    },
    {
      "cell_type": "markdown",
      "metadata": {
        "id": "Sq7E9a_juEnR"
      },
      "source": [
        "#### 95. Convert a vector of ints into a matrix binary representation (★★★) \n",
        "(**hint**: np.unpackbits)"
      ]
    },
    {
      "cell_type": "code",
      "execution_count": 94,
      "metadata": {
        "id": "JV6tmsvwuEnS",
        "colab": {
          "base_uri": "https://localhost:8080/"
        },
        "outputId": "94d81caa-f35f-4021-bf84-037d6de03a9f"
      },
      "outputs": [
        {
          "output_type": "stream",
          "name": "stdout",
          "text": [
            "[[0 0 0 0 0 0 0 0]\n",
            " [0 0 0 0 0 0 0 1]\n",
            " [0 0 0 0 0 0 1 0]\n",
            " [0 0 0 0 0 0 1 1]\n",
            " [0 0 0 0 1 1 1 1]\n",
            " [0 0 0 1 0 0 0 0]\n",
            " [0 0 1 0 0 0 0 0]\n",
            " [0 1 0 0 0 0 0 0]\n",
            " [1 0 0 0 0 0 0 0]]\n"
          ]
        }
      ],
      "source": [
        "I = np.array([0, 1, 2, 3, 15, 16, 32, 64, 128])\n",
        "B = ((I.reshape(-1,1) & (2**np.arange(8))) != 0).astype(int)\n",
        "print(B[:,::-1])"
      ]
    },
    {
      "cell_type": "markdown",
      "metadata": {
        "id": "EfCdA2--uEnS"
      },
      "source": [
        "#### 96. Given a two dimensional array, how to extract unique rows? (★★★) \n",
        "(**hint**: np.ascontiguousarray)"
      ]
    },
    {
      "cell_type": "code",
      "execution_count": 95,
      "metadata": {
        "id": "WQ0V1DbFuEnS",
        "colab": {
          "base_uri": "https://localhost:8080/"
        },
        "outputId": "dddcee60-5aea-4248-c19b-ab2331c6448a"
      },
      "outputs": [
        {
          "output_type": "stream",
          "name": "stdout",
          "text": [
            "[[0 0 0]\n",
            " [0 1 0]\n",
            " [1 0 0]\n",
            " [1 1 0]\n",
            " [1 1 1]]\n"
          ]
        }
      ],
      "source": [
        "Z = np.random.randint(0,2,(6,3))\n",
        "T = np.ascontiguousarray(Z).view(np.dtype((np.void, Z.dtype.itemsize * Z.shape[1])))\n",
        "_, idx = np.unique(T, return_index=True)\n",
        "uZ = Z[idx]\n",
        "print(uZ)"
      ]
    },
    {
      "cell_type": "markdown",
      "metadata": {
        "id": "tIBBpRWxuEnS"
      },
      "source": [
        "#### 97. Considering 2 vectors A & B, write the einsum equivalent of inner, outer, sum, and mul function (★★★) \n",
        "(**hint**: np.einsum)"
      ]
    },
    {
      "cell_type": "code",
      "execution_count": 96,
      "metadata": {
        "id": "k0oCS2_suEnS",
        "colab": {
          "base_uri": "https://localhost:8080/"
        },
        "outputId": "727aa954-32ab-4833-e1e1-004404a3e079"
      },
      "outputs": [
        {
          "output_type": "execute_result",
          "data": {
            "text/plain": [
              "array([[4.48332347e-01, 1.70806209e-01, 6.02949273e-03, 1.91628163e-01,\n",
              "        4.65937335e-01, 3.30750986e-01, 2.87710671e-01, 5.37800106e-01,\n",
              "        5.98991697e-01, 3.51171680e-01],\n",
              "       [7.15877738e-02, 2.72735981e-02, 9.62763371e-04, 3.05983579e-02,\n",
              "        7.43988623e-02, 5.28128896e-02, 4.59403979e-02, 8.58735994e-02,\n",
              "        9.56444085e-02, 5.60735779e-02],\n",
              "       [4.55796590e-01, 1.73649946e-01, 6.12987719e-03, 1.94818563e-01,\n",
              "        4.73694682e-01, 3.36257628e-01, 2.92500739e-01, 5.46753890e-01,\n",
              "        6.08964254e-01, 3.57018304e-01],\n",
              "       [4.08760244e-02, 1.55729981e-02, 5.49729891e-04, 1.74714083e-02,\n",
              "        4.24811326e-02, 3.01557215e-02, 2.62315858e-02, 4.90331122e-02,\n",
              "        5.46121631e-02, 3.20175474e-02],\n",
              "       [4.50402917e-01, 1.71595058e-01, 6.05733924e-03, 1.92513175e-01,\n",
              "        4.68089212e-01, 3.32278520e-01, 2.89039429e-01, 5.40283873e-01,\n",
              "        6.01758070e-01, 3.52793525e-01],\n",
              "       [5.86228909e-01, 2.23342211e-01, 7.88402392e-03, 2.50568512e-01,\n",
              "        6.09248780e-01, 4.32482266e-01, 3.76203755e-01, 7.03214862e-01,\n",
              "        7.83227558e-01, 4.59183889e-01],\n",
              "       [2.10987796e-01, 8.03823901e-02, 2.83751416e-03, 9.01813221e-02,\n",
              "        2.19272805e-01, 1.55653327e-01, 1.35398306e-01, 2.53091841e-01,\n",
              "        2.81888958e-01, 1.65263424e-01],\n",
              "       [9.85233978e-02, 3.75355653e-02, 1.32501283e-03, 4.21112995e-02,\n",
              "        1.02392187e-01, 7.26842736e-02, 6.32259373e-02, 1.18184410e-01,\n",
              "        1.31631585e-01, 7.71718287e-02],\n",
              "       [8.85807540e-02, 3.37476046e-02, 1.19129707e-03, 3.78615715e-02,\n",
              "        9.20591180e-02, 6.53492257e-02, 5.68453923e-02, 1.06257644e-01,\n",
              "        1.18347776e-01, 6.93839122e-02],\n",
              "       [2.93533728e-01, 1.11830841e-01, 3.94765065e-03, 1.25463464e-01,\n",
              "        3.05060128e-01, 2.16550447e-01, 1.88370940e-01, 3.52110374e-01,\n",
              "        3.92173947e-01, 2.29920355e-01]])"
            ]
          },
          "metadata": {},
          "execution_count": 96
        }
      ],
      "source": [
        "A = np.random.uniform(0,1,10)\n",
        "B = np.random.uniform(0,1,10)\n",
        "\n",
        "np.einsum('i->', A)       # np.sum(A)\n",
        "np.einsum('i,i->i', A, B) # A * B\n",
        "np.einsum('i,i', A, B)    # np.inner(A, B)\n",
        "np.einsum('i,j->ij', A, B)    # np.outer(A, B)"
      ]
    },
    {
      "cell_type": "markdown",
      "metadata": {
        "id": "sUfU0-UbuEnS"
      },
      "source": [
        "#### 98. Considering a path described by two vectors (X,Y), how to sample it using equidistant samples (★★★)? \n",
        "(**hint**: np.cumsum, np.interp)"
      ]
    },
    {
      "cell_type": "code",
      "execution_count": 97,
      "metadata": {
        "collapsed": true,
        "id": "NjS-VNtvuEnS"
      },
      "outputs": [],
      "source": [
        "phi = np.arange(0, 10*np.pi, 0.1)\n",
        "a = 1\n",
        "x = a*phi*np.cos(phi)\n",
        "y = a*phi*np.sin(phi)\n",
        "\n",
        "dr = (np.diff(x)**2 + np.diff(y)**2)**.5\n",
        "r = np.zeros_like(x)\n",
        "r[1:] = np.cumsum(dr)                \n",
        "r_int = np.linspace(0, r.max(), 200) \n",
        "x_int = np.interp(r_int, r, x)       \n",
        "y_int = np.interp(r_int, r, y)"
      ]
    },
    {
      "cell_type": "markdown",
      "metadata": {
        "id": "kh5W_Oc0uEnS"
      },
      "source": [
        "#### 99. Given an integer n and a 2D array X, select from X the rows which can be interpreted as draws from a multinomial distribution with n degrees, i.e., the rows which only contain integers and which sum to n. (★★★) \n",
        "(**hint**: np.logical\\_and.reduce, np.mod)"
      ]
    },
    {
      "cell_type": "code",
      "execution_count": 98,
      "metadata": {
        "id": "Jo2lVYsNuEnS",
        "colab": {
          "base_uri": "https://localhost:8080/"
        },
        "outputId": "9df8ba4e-11e0-441e-e12a-0b8ef93bec8e"
      },
      "outputs": [
        {
          "output_type": "stream",
          "name": "stdout",
          "text": [
            "[[2. 0. 1. 1.]]\n"
          ]
        }
      ],
      "source": [
        "X = np.asarray([[1.0, 0.0, 3.0, 8.0],\n",
        "                [2.0, 0.0, 1.0, 1.0],\n",
        "                [1.5, 2.5, 1.0, 0.0]])\n",
        "n = 4\n",
        "M = np.logical_and.reduce(np.mod(X, 1) == 0, axis=-1)\n",
        "M &= (X.sum(axis=-1) == n)\n",
        "print(X[M])"
      ]
    },
    {
      "cell_type": "markdown",
      "metadata": {
        "id": "r_XkigSYuEnS"
      },
      "source": [
        "#### 100. Compute bootstrapped 95% confidence intervals for the mean of a 1D array X (i.e., resample the elements of an array with replacement N times, compute the mean of each sample, and then compute percentiles over the means). (★★★) \n",
        "(**hint**: np.percentile)"
      ]
    },
    {
      "cell_type": "code",
      "execution_count": 99,
      "metadata": {
        "id": "fJv0uAH1uEnS",
        "colab": {
          "base_uri": "https://localhost:8080/"
        },
        "outputId": "c9367c16-396c-4dc0-ca44-e6d97f21f18b"
      },
      "outputs": [
        {
          "output_type": "stream",
          "name": "stdout",
          "text": [
            "[0.04203277 0.409627  ]\n"
          ]
        }
      ],
      "source": [
        "X = np.random.randn(100) \n",
        "N = 1000 \n",
        "idx = np.random.randint(0, X.size, (N, X.size))\n",
        "means = X[idx].mean(axis=1)\n",
        "confint = np.percentile(means, [2.5, 97.5])\n",
        "print(confint)"
      ]
    }
  ],
  "metadata": {
    "kernelspec": {
      "display_name": "Python 3",
      "language": "python",
      "name": "python3"
    },
    "language_info": {
      "codemirror_mode": {
        "name": "ipython",
        "version": 3
      },
      "file_extension": ".py",
      "mimetype": "text/x-python",
      "name": "python",
      "nbconvert_exporter": "python",
      "pygments_lexer": "ipython3",
      "version": "3.8.3"
    },
    "colab": {
      "provenance": [],
      "collapsed_sections": []
    }
  },
  "nbformat": 4,
  "nbformat_minor": 0
}